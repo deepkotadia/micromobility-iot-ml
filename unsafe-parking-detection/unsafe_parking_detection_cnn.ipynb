{
  "cells": [
    {
      "cell_type": "code",
      "execution_count": null,
      "metadata": {
        "colab": {
          "base_uri": "https://localhost:8080/"
        },
        "id": "XEXlI5CXmu5H",
        "outputId": "affef5a6-a7ff-4a66-b780-0ee4b205e3a3"
      },
      "outputs": [
        {
          "name": "stdout",
          "output_type": "stream",
          "text": [
            "Drive already mounted at /content/gdrive/; to attempt to forcibly remount, call drive.mount(\"/content/gdrive/\", force_remount=True).\n"
          ]
        }
      ],
      "source": [
        "from google.colab import drive\n",
        "drive.mount('/content/gdrive/')"
      ]
    },
    {
      "cell_type": "code",
      "execution_count": null,
      "metadata": {
        "colab": {
          "base_uri": "https://localhost:8080/"
        },
        "id": "qa72RtDcnbKw",
        "outputId": "885a5d68-5b45-462a-e695-c55d035f63ea"
      },
      "outputs": [
        {
          "name": "stdout",
          "output_type": "stream",
          "text": [
            "\u001b[0m\u001b[01;34mIMU_Data\u001b[0m/     new_testfile.csv  \u001b[01;34mRadar_Data\u001b[0m/                  SensorConfig.docx\n",
            "\u001b[01;34mIMU_Streams\u001b[0m/  plot.png          \u001b[01;34mRadar_PostProcess_Heatmaps\u001b[0m/  testfile.csv\n"
          ]
        }
      ],
      "source": [
        "ls"
      ]
    },
    {
      "cell_type": "markdown",
      "metadata": {
        "id": "ELu9G70f08UV"
      },
      "source": [
        "\n",
        "\n",
        "---\n",
        "\n",
        "\n",
        "Change Dir to Shared Drive that Contains RADAR Heatmap Images"
      ]
    },
    {
      "cell_type": "code",
      "execution_count": null,
      "metadata": {
        "id": "mN2UgsDWnlbv"
      },
      "outputs": [],
      "source": [
        "import os\n",
        "os.chdir(\"/content/gdrive/MyDrive/CS498 RF & IMU monitoring of electric scooter driving behaviour/Data/\")"
      ]
    },
    {
      "cell_type": "code",
      "execution_count": null,
      "metadata": {
        "colab": {
          "base_uri": "https://localhost:8080/"
        },
        "id": "Ut1G9w2Pnwzn",
        "outputId": "9ee86147-396a-4fd8-8e69-b8ea005e4afa"
      },
      "outputs": [
        {
          "name": "stdout",
          "output_type": "stream",
          "text": [
            "\u001b[0m\u001b[01;34mIMU_Data\u001b[0m/     new_testfile.csv  \u001b[01;34mRadar_Data\u001b[0m/                  SensorConfig.docx\n",
            "\u001b[01;34mIMU_Streams\u001b[0m/  plot.png          \u001b[01;34mRadar_PostProcess_Heatmaps\u001b[0m/  testfile.csv\n"
          ]
        }
      ],
      "source": [
        "ls"
      ]
    },
    {
      "cell_type": "markdown",
      "metadata": {
        "id": "d8Cve1IW1Ouy"
      },
      "source": [
        "\n",
        "\n",
        "---\n",
        "Install PyTorch and Ensure GPU is Working\n"
      ]
    },
    {
      "cell_type": "code",
      "execution_count": null,
      "metadata": {
        "colab": {
          "base_uri": "https://localhost:8080/"
        },
        "id": "Oub2n7KUnxiH",
        "outputId": "4d7fa479-4daf-4249-d190-dfcb7a81fea1"
      },
      "outputs": [
        {
          "name": "stdout",
          "output_type": "stream",
          "text": [
            "Requirement already satisfied: torch in /usr/local/lib/python3.7/dist-packages (1.10.0+cu111)\n",
            "Requirement already satisfied: torchvision in /usr/local/lib/python3.7/dist-packages (0.11.1+cu111)\n",
            "Requirement already satisfied: typing-extensions in /usr/local/lib/python3.7/dist-packages (from torch) (3.10.0.2)\n",
            "Requirement already satisfied: pillow!=8.3.0,>=5.3.0 in /usr/local/lib/python3.7/dist-packages (from torchvision) (7.1.2)\n",
            "Requirement already satisfied: numpy in /usr/local/lib/python3.7/dist-packages (from torchvision) (1.19.5)\n"
          ]
        }
      ],
      "source": [
        "!pip3 install torch torchvision"
      ]
    },
    {
      "cell_type": "code",
      "execution_count": null,
      "metadata": {
        "id": "4mv-EtH7EhY-"
      },
      "outputs": [],
      "source": [
        "import glob\n",
        "import cv2\n",
        "import os\n",
        "import os.path as osp\n",
        "import time\n",
        "import numpy as np\n",
        "import matplotlib.pyplot as plt\n",
        "import torch\n",
        "import torchvision.transforms as transforms\n",
        "from torch.utils.data import Dataset, DataLoader\n",
        "from torch.autograd import Variable\n",
        "import torch.nn as nn\n",
        "import torch.nn.functional as F\n",
        "import torchvision.models as models\n",
        "import torch.optim as optim\n",
        "from torchvision import datasets\n",
        "\n",
        "torch.cuda.empty_cache()"
      ]
    },
    {
      "cell_type": "code",
      "execution_count": null,
      "metadata": {
        "colab": {
          "base_uri": "https://localhost:8080/"
        },
        "id": "N63ixu98rSMP",
        "outputId": "1486dd82-fcce-4a1f-84bf-2b1ccaf2ac2c"
      },
      "outputs": [
        {
          "name": "stdout",
          "output_type": "stream",
          "text": [
            "tensor([1.], device='cuda:0')\n"
          ]
        }
      ],
      "source": [
        "a = torch.Tensor([1]).cuda()\n",
        "print(a)"
      ]
    },
    {
      "cell_type": "code",
      "execution_count": null,
      "metadata": {
        "colab": {
          "base_uri": "https://localhost:8080/"
        },
        "id": "Rq1j2-q9raxW",
        "outputId": "e858b1fb-dabe-4d55-979d-81cee0323d71"
      },
      "outputs": [
        {
          "data": {
            "text/plain": [
              "True"
            ]
          },
          "execution_count": 11,
          "metadata": {},
          "output_type": "execute_result"
        }
      ],
      "source": [
        "torch.cuda.is_available()"
      ]
    },
    {
      "cell_type": "markdown",
      "metadata": {
        "id": "3eEEH6JYryms"
      },
      "source": [
        "\n",
        "\n",
        "---\n",
        "\n",
        "\n",
        "Radar Heatmaps Custom Dataset"
      ]
    },
    {
      "cell_type": "code",
      "execution_count": null,
      "metadata": {
        "id": "LaQd13xOrlXf"
      },
      "outputs": [],
      "source": [
        "class_map = {\n",
        "    'bicyclerack': 0,\n",
        "    'bush': 1,\n",
        "    'firehydrant': 2,\n",
        "    'human': 3,\n",
        "    'lamppost': 4,\n",
        "    'middle_of_sidewalk': 5,\n",
        "    'tree': 6,\n",
        "    'wall': 7\n",
        "}\n",
        "\n",
        "\n",
        "class CustomDataset(Dataset):\n",
        "\n",
        "    def __init__(self, data_path, transform=None, target_transform=None):\n",
        "        self.imgs_path = data_path\n",
        "        file_list = glob.glob(self.imgs_path + '/*')\n",
        "        #print('file list', file_list)\n",
        "\n",
        "        self.data = []\n",
        "        for class_path in file_list:\n",
        "            class_name = class_path.split('/')[-1]\n",
        "            # a class can have multiple scenarios (wall class -> glass wall, brick wall)\n",
        "            for scenario_dir in glob.glob(class_path + '/' + '*'):\n",
        "                scenario_dir_heatmaps_regex = 'allobjects_1m_*_noaxis.png'\n",
        "                for img_path in glob.glob(scenario_dir + '/' + scenario_dir_heatmaps_regex):\n",
        "                    self.data.append([img_path, class_name])\n",
        "\n",
        "        \n",
        "        self.class_map = class_map\n",
        "        self.img_dim = (400, 200)\n",
        "        self.transform = transform\n",
        "        self.target_transform = target_transform\n",
        "    \n",
        "    \n",
        "    def __len__(self):\n",
        "        return len(self.data)\n",
        "\n",
        "    \n",
        "    def __getitem__(self, idx):\n",
        "        img_path, class_name = self.data[idx]\n",
        "        img = cv2.imread(img_path)\n",
        "        img = cv2.resize(img, self.img_dim)\n",
        "        target = self.class_map[class_name]\n",
        "        #img_tensor = torch.from_numpy(img)\n",
        "        #img_tensor = img_tensor.permute(2, 0, 1)\n",
        "        # target = torch.tensor([target])\n",
        "        if self.transform is not None:\n",
        "            img = self.transform(img)\n",
        "\n",
        "        if self.target_transform is not None:\n",
        "            target = self.target_transform(target)\n",
        "\n",
        "        return img, target\n"
      ]
    },
    {
      "cell_type": "code",
      "execution_count": null,
      "metadata": {},
      "outputs": [],
      "source": [
        "class_map = {\n",
        "    'bicyclerack': 0,\n",
        "    'bush': 1,\n",
        "    'firehydrant': 2,\n",
        "    'human': 3,\n",
        "    'lamppost': 4,\n",
        "    'middle_of_sidewalk': 5,\n",
        "    'tree': 6,\n",
        "    'wall': 7\n",
        "}\n",
        "\n",
        "object_vs_none = {'bicyclerack': 1,\n",
        "                    'bush': 1,\n",
        "                    'human': 1,\n",
        "                    'lamppost': 1,\n",
        "                    'middle_of_sidewalk': 0,\n",
        "                    'tree': 1,\n",
        "                    'wall': 1}\n",
        "\n",
        "class ParkingDataset(Dataset):\n",
        "\n",
        "    def __init__(self, data_path, class_map = object_vs_none, transform=None, target_transform=None):\n",
        "        self.imgs_path = data_path\n",
        "        file_list = glob.glob(self.imgs_path + '/*')\n",
        "        #print('file list', file_list)\n",
        "        self.data = []\n",
        "        for class_path in file_list:\n",
        "            class_name = class_path.split('/')[-1]\n",
        "            # a class can have multiple scenarios (wall class -> glass wall, brick wall)\n",
        "            for scenario_dir in glob.glob(class_path + '/' + '*'):\n",
        "                scenario_dir_heatmaps_regex = 'allobjects_1m_*_noaxis.png'\n",
        "                for img_path in glob.glob(scenario_dir + '/' + scenario_dir_heatmaps_regex):\n",
        "                    if class_name not in self.class_map.keys():\n",
        "                        pass\n",
        "                    else:\n",
        "                        self.data.append([img_path, class_name])\n",
        "\n",
        "        \n",
        "        self.class_map = class_map\n",
        "        self.img_dim = (400, 200)\n",
        "        self.transform = transform\n",
        "        self.target_transform = target_transform\n",
        "    \n",
        "    \n",
        "    def __len__(self):\n",
        "        return len(self.data)\n",
        "\n",
        "    \n",
        "    def __getitem__(self, idx):\n",
        "        img_path, class_name = self.data[idx]\n",
        "        img = cv2.imread(img_path)\n",
        "        img = cv2.resize(img, self.img_dim)\n",
        "        target = self.class_map[class_name]\n",
        "        original_label = class_name\n",
        "        #img_tensor = torch.from_numpy(img)\n",
        "        #img_tensor = img_tensor.permute(2, 0, 1)\n",
        "        # target = torch.tensor([target])\n",
        "        if self.transform is not None:\n",
        "            img = self.transform(img)\n",
        "\n",
        "        if self.target_transform is not None:\n",
        "            target = self.target_transform(target)\n",
        "\n",
        "        return img, target, original_label"
      ]
    },
    {
      "cell_type": "markdown",
      "metadata": {
        "id": "0LSkJmlQzBD6"
      },
      "source": [
        "\n",
        "\n",
        "---\n",
        "\n",
        "\n",
        "Custom Dataloader"
      ]
    },
    {
      "cell_type": "code",
      "execution_count": null,
      "metadata": {
        "colab": {
          "base_uri": "https://localhost:8080/"
        },
        "id": "37asgwbbxDKf",
        "outputId": "8f89a883-9750-4f80-e1ad-96b295362998"
      },
      "outputs": [
        {
          "name": "stdout",
          "output_type": "stream",
          "text": [
            "Train Set Size: 2000\n",
            "Train Dataloader Size: 63\n",
            "Val Set Size: 526\n",
            "Val Dataloader Size: 106\n",
            "Test Set Size: 574\n",
            "Test Dataloader Size: 115\n"
          ]
        }
      ],
      "source": [
        "train_set = CustomDataset(data_path='Radar_PostProcess_Heatmaps/train', transform=None)\t\t\n",
        "\n",
        "train_dataloader = DataLoader(train_set, batch_size=32, shuffle=True, num_workers=2)\n",
        "print(f'Train Set Size: {len(train_set)}')\n",
        "print(f'Train Dataloader Size: {len(train_dataloader)}')\n",
        "\n",
        "val_set = CustomDataset(data_path='Radar_PostProcess_Heatmaps/val', transform=None)\t\t\n",
        "val_dataloader = DataLoader(val_set, batch_size=5, shuffle=True, num_workers=2)\n",
        "print(f'Val Set Size: {len(val_set)}')\n",
        "print(f'Val Dataloader Size: {len(val_dataloader)}')\n",
        "\n",
        "test_set = CustomDataset(data_path='Radar_PostProcess_Heatmaps/test', transform=None)\t\t\n",
        "test_dataloader = DataLoader(test_set, batch_size=5, shuffle=True, num_workers=2)\n",
        "print(f'Test Set Size: {len(test_set)}')\n",
        "print(f'Test Dataloader Size: {len(test_dataloader)}')"
      ]
    },
    {
      "cell_type": "code",
      "execution_count": null,
      "metadata": {
        "colab": {
          "base_uri": "https://localhost:8080/",
          "height": 521
        },
        "id": "LtBeue8aHBKF",
        "outputId": "73fecda1-06fd-447a-a130-07dc5cd34605"
      },
      "outputs": [
        {
          "ename": "TypeError",
          "evalue": "ignored",
          "output_type": "error",
          "traceback": [
            "\u001b[0;31m---------------------------------------------------------------------------\u001b[0m",
            "\u001b[0;31mTypeError\u001b[0m                                 Traceback (most recent call last)",
            "\u001b[0;32m<ipython-input-25-d97a100086c0>\u001b[0m in \u001b[0;36m<module>\u001b[0;34m()\u001b[0m\n\u001b[1;32m      9\u001b[0m     \u001b[0mplt\u001b[0m\u001b[0;34m.\u001b[0m\u001b[0mtitle\u001b[0m\u001b[0;34m(\u001b[0m\u001b[0mlabels_map\u001b[0m\u001b[0;34m[\u001b[0m\u001b[0mlabel\u001b[0m\u001b[0;34m]\u001b[0m\u001b[0;34m)\u001b[0m\u001b[0;34m\u001b[0m\u001b[0;34m\u001b[0m\u001b[0m\n\u001b[1;32m     10\u001b[0m     \u001b[0mplt\u001b[0m\u001b[0;34m.\u001b[0m\u001b[0maxis\u001b[0m\u001b[0;34m(\u001b[0m\u001b[0;34m\"off\"\u001b[0m\u001b[0;34m)\u001b[0m\u001b[0;34m\u001b[0m\u001b[0;34m\u001b[0m\u001b[0m\n\u001b[0;32m---> 11\u001b[0;31m     \u001b[0mplt\u001b[0m\u001b[0;34m.\u001b[0m\u001b[0mimshow\u001b[0m\u001b[0;34m(\u001b[0m\u001b[0mimg\u001b[0m\u001b[0;34m.\u001b[0m\u001b[0msqueeze\u001b[0m\u001b[0;34m(\u001b[0m\u001b[0;34m)\u001b[0m\u001b[0;34m)\u001b[0m\u001b[0;34m\u001b[0m\u001b[0;34m\u001b[0m\u001b[0m\n\u001b[0m\u001b[1;32m     12\u001b[0m \u001b[0mplt\u001b[0m\u001b[0;34m.\u001b[0m\u001b[0mshow\u001b[0m\u001b[0;34m(\u001b[0m\u001b[0;34m)\u001b[0m\u001b[0;34m\u001b[0m\u001b[0;34m\u001b[0m\u001b[0m\n",
            "\u001b[0;32m/usr/local/lib/python3.7/dist-packages/matplotlib/pyplot.py\u001b[0m in \u001b[0;36mimshow\u001b[0;34m(X, cmap, norm, aspect, interpolation, alpha, vmin, vmax, origin, extent, shape, filternorm, filterrad, imlim, resample, url, data, **kwargs)\u001b[0m\n\u001b[1;32m   2649\u001b[0m         \u001b[0mfilternorm\u001b[0m\u001b[0;34m=\u001b[0m\u001b[0mfilternorm\u001b[0m\u001b[0;34m,\u001b[0m \u001b[0mfilterrad\u001b[0m\u001b[0;34m=\u001b[0m\u001b[0mfilterrad\u001b[0m\u001b[0;34m,\u001b[0m \u001b[0mimlim\u001b[0m\u001b[0;34m=\u001b[0m\u001b[0mimlim\u001b[0m\u001b[0;34m,\u001b[0m\u001b[0;34m\u001b[0m\u001b[0;34m\u001b[0m\u001b[0m\n\u001b[1;32m   2650\u001b[0m         resample=resample, url=url, **({\"data\": data} if data is not\n\u001b[0;32m-> 2651\u001b[0;31m         None else {}), **kwargs)\n\u001b[0m\u001b[1;32m   2652\u001b[0m     \u001b[0msci\u001b[0m\u001b[0;34m(\u001b[0m\u001b[0m__ret\u001b[0m\u001b[0;34m)\u001b[0m\u001b[0;34m\u001b[0m\u001b[0;34m\u001b[0m\u001b[0m\n\u001b[1;32m   2653\u001b[0m     \u001b[0;32mreturn\u001b[0m \u001b[0m__ret\u001b[0m\u001b[0;34m\u001b[0m\u001b[0;34m\u001b[0m\u001b[0m\n",
            "\u001b[0;32m/usr/local/lib/python3.7/dist-packages/matplotlib/__init__.py\u001b[0m in \u001b[0;36minner\u001b[0;34m(ax, data, *args, **kwargs)\u001b[0m\n\u001b[1;32m   1563\u001b[0m     \u001b[0;32mdef\u001b[0m \u001b[0minner\u001b[0m\u001b[0;34m(\u001b[0m\u001b[0max\u001b[0m\u001b[0;34m,\u001b[0m \u001b[0;34m*\u001b[0m\u001b[0margs\u001b[0m\u001b[0;34m,\u001b[0m \u001b[0mdata\u001b[0m\u001b[0;34m=\u001b[0m\u001b[0;32mNone\u001b[0m\u001b[0;34m,\u001b[0m \u001b[0;34m**\u001b[0m\u001b[0mkwargs\u001b[0m\u001b[0;34m)\u001b[0m\u001b[0;34m:\u001b[0m\u001b[0;34m\u001b[0m\u001b[0;34m\u001b[0m\u001b[0m\n\u001b[1;32m   1564\u001b[0m         \u001b[0;32mif\u001b[0m \u001b[0mdata\u001b[0m \u001b[0;32mis\u001b[0m \u001b[0;32mNone\u001b[0m\u001b[0;34m:\u001b[0m\u001b[0;34m\u001b[0m\u001b[0;34m\u001b[0m\u001b[0m\n\u001b[0;32m-> 1565\u001b[0;31m             \u001b[0;32mreturn\u001b[0m \u001b[0mfunc\u001b[0m\u001b[0;34m(\u001b[0m\u001b[0max\u001b[0m\u001b[0;34m,\u001b[0m \u001b[0;34m*\u001b[0m\u001b[0mmap\u001b[0m\u001b[0;34m(\u001b[0m\u001b[0msanitize_sequence\u001b[0m\u001b[0;34m,\u001b[0m \u001b[0margs\u001b[0m\u001b[0;34m)\u001b[0m\u001b[0;34m,\u001b[0m \u001b[0;34m**\u001b[0m\u001b[0mkwargs\u001b[0m\u001b[0;34m)\u001b[0m\u001b[0;34m\u001b[0m\u001b[0;34m\u001b[0m\u001b[0m\n\u001b[0m\u001b[1;32m   1566\u001b[0m \u001b[0;34m\u001b[0m\u001b[0m\n\u001b[1;32m   1567\u001b[0m         \u001b[0mbound\u001b[0m \u001b[0;34m=\u001b[0m \u001b[0mnew_sig\u001b[0m\u001b[0;34m.\u001b[0m\u001b[0mbind\u001b[0m\u001b[0;34m(\u001b[0m\u001b[0max\u001b[0m\u001b[0;34m,\u001b[0m \u001b[0;34m*\u001b[0m\u001b[0margs\u001b[0m\u001b[0;34m,\u001b[0m \u001b[0;34m**\u001b[0m\u001b[0mkwargs\u001b[0m\u001b[0;34m)\u001b[0m\u001b[0;34m\u001b[0m\u001b[0;34m\u001b[0m\u001b[0m\n",
            "\u001b[0;32m/usr/local/lib/python3.7/dist-packages/matplotlib/cbook/deprecation.py\u001b[0m in \u001b[0;36mwrapper\u001b[0;34m(*args, **kwargs)\u001b[0m\n\u001b[1;32m    356\u001b[0m                 \u001b[0;34mf\"%(removal)s.  If any parameter follows {name!r}, they \"\u001b[0m\u001b[0;34m\u001b[0m\u001b[0;34m\u001b[0m\u001b[0m\n\u001b[1;32m    357\u001b[0m                 f\"should be pass as keyword, not positionally.\")\n\u001b[0;32m--> 358\u001b[0;31m         \u001b[0;32mreturn\u001b[0m \u001b[0mfunc\u001b[0m\u001b[0;34m(\u001b[0m\u001b[0;34m*\u001b[0m\u001b[0margs\u001b[0m\u001b[0;34m,\u001b[0m \u001b[0;34m**\u001b[0m\u001b[0mkwargs\u001b[0m\u001b[0;34m)\u001b[0m\u001b[0;34m\u001b[0m\u001b[0;34m\u001b[0m\u001b[0m\n\u001b[0m\u001b[1;32m    359\u001b[0m \u001b[0;34m\u001b[0m\u001b[0m\n\u001b[1;32m    360\u001b[0m     \u001b[0;32mreturn\u001b[0m \u001b[0mwrapper\u001b[0m\u001b[0;34m\u001b[0m\u001b[0;34m\u001b[0m\u001b[0m\n",
            "\u001b[0;32m/usr/local/lib/python3.7/dist-packages/matplotlib/cbook/deprecation.py\u001b[0m in \u001b[0;36mwrapper\u001b[0;34m(*args, **kwargs)\u001b[0m\n\u001b[1;32m    356\u001b[0m                 \u001b[0;34mf\"%(removal)s.  If any parameter follows {name!r}, they \"\u001b[0m\u001b[0;34m\u001b[0m\u001b[0;34m\u001b[0m\u001b[0m\n\u001b[1;32m    357\u001b[0m                 f\"should be pass as keyword, not positionally.\")\n\u001b[0;32m--> 358\u001b[0;31m         \u001b[0;32mreturn\u001b[0m \u001b[0mfunc\u001b[0m\u001b[0;34m(\u001b[0m\u001b[0;34m*\u001b[0m\u001b[0margs\u001b[0m\u001b[0;34m,\u001b[0m \u001b[0;34m**\u001b[0m\u001b[0mkwargs\u001b[0m\u001b[0;34m)\u001b[0m\u001b[0;34m\u001b[0m\u001b[0;34m\u001b[0m\u001b[0m\n\u001b[0m\u001b[1;32m    359\u001b[0m \u001b[0;34m\u001b[0m\u001b[0m\n\u001b[1;32m    360\u001b[0m     \u001b[0;32mreturn\u001b[0m \u001b[0mwrapper\u001b[0m\u001b[0;34m\u001b[0m\u001b[0;34m\u001b[0m\u001b[0m\n",
            "\u001b[0;32m/usr/local/lib/python3.7/dist-packages/matplotlib/axes/_axes.py\u001b[0m in \u001b[0;36mimshow\u001b[0;34m(self, X, cmap, norm, aspect, interpolation, alpha, vmin, vmax, origin, extent, shape, filternorm, filterrad, imlim, resample, url, **kwargs)\u001b[0m\n\u001b[1;32m   5624\u001b[0m                               resample=resample, **kwargs)\n\u001b[1;32m   5625\u001b[0m \u001b[0;34m\u001b[0m\u001b[0m\n\u001b[0;32m-> 5626\u001b[0;31m         \u001b[0mim\u001b[0m\u001b[0;34m.\u001b[0m\u001b[0mset_data\u001b[0m\u001b[0;34m(\u001b[0m\u001b[0mX\u001b[0m\u001b[0;34m)\u001b[0m\u001b[0;34m\u001b[0m\u001b[0;34m\u001b[0m\u001b[0m\n\u001b[0m\u001b[1;32m   5627\u001b[0m         \u001b[0mim\u001b[0m\u001b[0;34m.\u001b[0m\u001b[0mset_alpha\u001b[0m\u001b[0;34m(\u001b[0m\u001b[0malpha\u001b[0m\u001b[0;34m)\u001b[0m\u001b[0;34m\u001b[0m\u001b[0;34m\u001b[0m\u001b[0m\n\u001b[1;32m   5628\u001b[0m         \u001b[0;32mif\u001b[0m \u001b[0mim\u001b[0m\u001b[0;34m.\u001b[0m\u001b[0mget_clip_path\u001b[0m\u001b[0;34m(\u001b[0m\u001b[0;34m)\u001b[0m \u001b[0;32mis\u001b[0m \u001b[0;32mNone\u001b[0m\u001b[0;34m:\u001b[0m\u001b[0;34m\u001b[0m\u001b[0;34m\u001b[0m\u001b[0m\n",
            "\u001b[0;32m/usr/local/lib/python3.7/dist-packages/matplotlib/image.py\u001b[0m in \u001b[0;36mset_data\u001b[0;34m(self, A)\u001b[0m\n\u001b[1;32m    697\u001b[0m                 or self._A.ndim == 3 and self._A.shape[-1] in [3, 4]):\n\u001b[1;32m    698\u001b[0m             raise TypeError(\"Invalid shape {} for image data\"\n\u001b[0;32m--> 699\u001b[0;31m                             .format(self._A.shape))\n\u001b[0m\u001b[1;32m    700\u001b[0m \u001b[0;34m\u001b[0m\u001b[0m\n\u001b[1;32m    701\u001b[0m         \u001b[0;32mif\u001b[0m \u001b[0mself\u001b[0m\u001b[0;34m.\u001b[0m\u001b[0m_A\u001b[0m\u001b[0;34m.\u001b[0m\u001b[0mndim\u001b[0m \u001b[0;34m==\u001b[0m \u001b[0;36m3\u001b[0m\u001b[0;34m:\u001b[0m\u001b[0;34m\u001b[0m\u001b[0;34m\u001b[0m\u001b[0m\n",
            "\u001b[0;31mTypeError\u001b[0m: Invalid shape (3, 200, 400) for image data"
          ]
        },
        {
          "data": {
            "image/png": "[encoded data removed]",
            "text/plain": [
              "<Figure size 576x576 with 1 Axes>"
            ]
          },
          "metadata": {},
          "output_type": "display_data"
        }
      ],
      "source": [
        "labels_map = dict((v,k) for k,v in class_map.items())\n",
        "\n",
        "figure = plt.figure(figsize=(8, 8))\n",
        "cols, rows = 3, 3\n",
        "for i in range(1, cols * rows + 1):\n",
        "    sample_idx = torch.randint(len(train_set), size=(1,)).item()\n",
        "    img, label = train_set[sample_idx]\n",
        "    figure.add_subplot(rows, cols, i)\n",
        "    plt.title(labels_map[label])\n",
        "    plt.axis(\"off\")\n",
        "    plt.imshow(img.squeeze())\n",
        "plt.show()"
      ]
    },
    {
      "cell_type": "code",
      "execution_count": null,
      "metadata": {
        "colab": {
          "base_uri": "https://localhost:8080/",
          "height": 289
        },
        "id": "B0J20Ukkt8iX",
        "outputId": "80740080-3954-44ee-d3b1-31bd54f765b6"
      },
      "outputs": [
        {
          "name": "stdout",
          "output_type": "stream",
          "text": [
            "Feature batch shape: torch.Size([32, 200, 400, 3])\n",
            "Labels batch shape: torch.Size([32])\n"
          ]
        },
        {
          "data": {
            "image/png": "[encoded data removed]",
            "text/plain": [
              "<Figure size 432x288 with 1 Axes>"
            ]
          },
          "metadata": {},
          "output_type": "display_data"
        },
        {
          "name": "stdout",
          "output_type": "stream",
          "text": [
            "Label: 6\n",
            "Class: tree\n"
          ]
        }
      ],
      "source": [
        "# Display image and label.\n",
        "train_features, train_labels = next(iter(train_dataloader))\n",
        "print(f\"Feature batch shape: {train_features.size()}\")\n",
        "print(f\"Labels batch shape: {train_labels.size()}\")\n",
        "img = train_features[0].squeeze()\n",
        "label = train_labels[0]\n",
        "plt.imshow(img)\n",
        "plt.show()\n",
        "print(f\"Label: {label}\")\n",
        "print(f\"Class: {labels_map[label.item()]}\")"
      ]
    },
    {
      "cell_type": "code",
      "execution_count": null,
      "metadata": {
        "id": "Yg6NDV4zYoO9"
      },
      "outputs": [],
      "source": [
        "# Helper Functions to be Used Later\n",
        "\n",
        "def compute_model_throughput(model, test_dataloader, batch_size):\n",
        "  # Ref: https://deci.ai/resources/blog/measure-inference-time-deep-neural-networks/\n",
        "  repetitions=50\n",
        "  total_time = 0\n",
        "  all_batch_throughputs = np.zeros(len(test_dataloader))\n",
        "\n",
        "  with torch.no_grad():\n",
        "    for batch_idx, (images, labels) in enumerate(test_dataloader):\n",
        "      for rep in range(repetitions):\n",
        "        images = images.cuda()  # move to GPU\n",
        "        starter, ender = torch.cuda.Event(enable_timing=True), torch.cuda.Event(enable_timing=True)\n",
        "        starter.record()\n",
        "        _ = model(images)\n",
        "        ender.record()\n",
        "        torch.cuda.synchronize()\n",
        "        curr_time = starter.elapsed_time(ender) / 1000\n",
        "        total_time += curr_time\n",
        "      batch_throughput = (repetitions*batch_size) / total_time\n",
        "      all_batch_throughputs[batch_idx] = batch_throughput\n",
        "\n",
        "  return np.mean(all_batch_throughputs)  # samples / second\n",
        "\n",
        "\n",
        "def compute_model_inference_time(model, test_dataloader, batch_size):\n",
        "  # Ref: https://deci.ai/resources/blog/measure-inference-time-deep-neural-networks/\n",
        "  # INIT LOGGERS\n",
        "  starter, ender = torch.cuda.Event(enable_timing=True), torch.cuda.Event(enable_timing=True)\n",
        "  repetitions = 50\n",
        "  timings=np.zeros((repetitions,1))\n",
        "  all_batch_times = np.zeros(len(test_dataloader))\n",
        "\n",
        "  for batch_idx, (images, labels) in enumerate(test_dataloader):\n",
        "    images = images.cuda()\n",
        "    #GPU-WARM-UP\n",
        "    for _ in range(10):\n",
        "      _ = model(images)\n",
        "    # MEASURE PERFORMANCE\n",
        "    with torch.no_grad():\n",
        "      for rep in range(repetitions):\n",
        "        starter.record()\n",
        "        _ = model(images)\n",
        "        ender.record()\n",
        "        # WAIT FOR GPU SYNC\n",
        "        torch.cuda.synchronize()\n",
        "        curr_time = starter.elapsed_time(ender)\n",
        "        timings[rep] = curr_time\n",
        "    mean_syn = np.sum(timings) / repetitions\n",
        "    all_batch_times[batch_idx] = mean_syn\n",
        "\n",
        "  return np.mean(all_batch_times)  # in milliseconds"
      ]
    },
    {
      "cell_type": "markdown",
      "metadata": {
        "id": "JEnUElplO771"
      },
      "source": [
        "\n",
        "\n",
        "---\n",
        "\n",
        "\n",
        "#Training from Scratch with Custom CNN Model (Baseline)"
      ]
    },
    {
      "cell_type": "code",
      "execution_count": null,
      "metadata": {
        "colab": {
          "base_uri": "https://localhost:8080/",
          "height": 963
        },
        "id": "HbaeuQBiEQac",
        "outputId": "620d0347-6c83-41bf-d47f-278c8d92c454"
      },
      "outputs": [
        {
          "name": "stderr",
          "output_type": "stream",
          "text": [
            "ERROR:root:Internal Python error in the inspect module.\n",
            "Below is the traceback from this internal error.\n",
            "\n"
          ]
        },
        {
          "name": "stdout",
          "output_type": "stream",
          "text": [
            "Traceback (most recent call last):\n",
            "  File \"/usr/local/lib/python3.7/dist-packages/IPython/core/interactiveshell.py\", line 2882, in run_code\n",
            "    exec(code_obj, self.user_global_ns, self.user_ns)\n",
            "  File \"<ipython-input-8-043f89bdb6fc>\", line 20, in <module>\n",
            "    train_set = CustomDataset(data_path='Radar_PostProcess_Heatmaps/train', transform=train_transform)\n",
            "  File \"<ipython-input-6-ac39e5144edc>\", line 26, in __init__\n",
            "    for img_path in glob.glob(scenario_dir + '/' + scenario_dir_heatmaps_regex):\n",
            "  File \"/usr/lib/python3.7/glob.py\", line 20, in glob\n",
            "    return list(iglob(pathname, recursive=recursive))\n",
            "  File \"/usr/lib/python3.7/glob.py\", line 72, in _iglob\n",
            "    for name in glob_in_dir(dirname, basename, dironly):\n",
            "  File \"/usr/lib/python3.7/glob.py\", line 80, in _glob1\n",
            "    names = list(_iterdir(dirname, dironly))\n",
            "  File \"/usr/lib/python3.7/glob.py\", line 121, in _iterdir\n",
            "    with os.scandir(dirname) as it:\n",
            "KeyboardInterrupt\n",
            "\n",
            "During handling of the above exception, another exception occurred:\n",
            "\n",
            "Traceback (most recent call last):\n",
            "  File \"/usr/local/lib/python3.7/dist-packages/IPython/core/interactiveshell.py\", line 1823, in showtraceback\n",
            "    stb = value._render_traceback_()\n",
            "AttributeError: 'KeyboardInterrupt' object has no attribute '_render_traceback_'\n",
            "\n",
            "During handling of the above exception, another exception occurred:\n",
            "\n",
            "Traceback (most recent call last):\n",
            "  File \"/usr/local/lib/python3.7/dist-packages/IPython/core/ultratb.py\", line 1132, in get_records\n",
            "    return _fixed_getinnerframes(etb, number_of_lines_of_context, tb_offset)\n",
            "  File \"/usr/local/lib/python3.7/dist-packages/IPython/core/ultratb.py\", line 313, in wrapped\n",
            "    return f(*args, **kwargs)\n",
            "  File \"/usr/local/lib/python3.7/dist-packages/IPython/core/ultratb.py\", line 358, in _fixed_getinnerframes\n",
            "    records = fix_frame_records_filenames(inspect.getinnerframes(etb, context))\n",
            "  File \"/usr/lib/python3.7/inspect.py\", line 1502, in getinnerframes\n",
            "    frameinfo = (tb.tb_frame,) + getframeinfo(tb, context)\n",
            "  File \"/usr/lib/python3.7/inspect.py\", line 1460, in getframeinfo\n",
            "    filename = getsourcefile(frame) or getfile(frame)\n",
            "  File \"/usr/lib/python3.7/inspect.py\", line 696, in getsourcefile\n",
            "    if getattr(getmodule(object, filename), '__loader__', None) is not None:\n",
            "  File \"/usr/lib/python3.7/inspect.py\", line 739, in getmodule\n",
            "    f = getabsfile(module)\n",
            "  File \"/usr/lib/python3.7/inspect.py\", line 709, in getabsfile\n",
            "    return os.path.normcase(os.path.abspath(_filename))\n",
            "  File \"/usr/lib/python3.7/posixpath.py\", line 385, in abspath\n",
            "    return normpath(path)\n",
            "  File \"/usr/lib/python3.7/posixpath.py\", line 361, in normpath\n",
            "    for comp in comps:\n",
            "KeyboardInterrupt\n"
          ]
        },
        {
          "ename": "KeyboardInterrupt",
          "evalue": "ignored",
          "output_type": "error",
          "traceback": [
            "\u001b[0;31m---------------------------------------------------------------------------\u001b[0m"
          ]
        }
      ],
      "source": [
        "#@title\n",
        "EPOCHS = 15\n",
        "IS_GPU = True\n",
        "TRAIN_BS = 32\n",
        "VAL_BS = 5\n",
        "TEST_BS = 5\n",
        "TOTAL_CLASSES = 8\n",
        "\n",
        "train_transform = transforms.Compose(\n",
        "    [transforms.ToTensor(), \n",
        "     transforms.Normalize([0,0,0], [1,1,1]), \n",
        "     #transforms.Normalize([0.485, 0.456, 0.406], [0.229, 0.224, 0.225]), \n",
        "     transforms.RandomHorizontalFlip()])\n",
        "\n",
        "val_transform = transforms.Compose(\n",
        "    [transforms.ToTensor(),\n",
        "     transforms.Normalize([0,0,0], [1,1,1])\n",
        "     #transforms.Normalize([0.485, 0.456, 0.406], [0.229, 0.224, 0.225]) \n",
        "     ])\n",
        "\n",
        "train_set = CustomDataset(data_path='Radar_PostProcess_Heatmaps/train', transform=train_transform)\t\t\n",
        "train_dataloader = DataLoader(train_set, batch_size=TRAIN_BS, shuffle=True, num_workers=2)\n",
        "print(f'Train Set Size: {len(train_set)}')\n",
        "print(f'Train Dataloader Size: {len(train_dataloader)}')\n",
        "\n",
        "val_set = CustomDataset(data_path='Radar_PostProcess_Heatmaps/val', transform=val_transform)\t\t\n",
        "val_dataloader = DataLoader(val_set, batch_size=VAL_BS, shuffle=True, num_workers=2)\n",
        "print(f'Val Set Size: {len(val_set)}')\n",
        "print(f'Val Dataloader Size: {len(val_dataloader)}')\n",
        "\n",
        "test_set = CustomDataset(data_path='Radar_PostProcess_Heatmaps/test', transform=val_transform)\t\t\n",
        "test_dataloader = DataLoader(test_set, batch_size=TEST_BS, shuffle=True, num_workers=2)\n",
        "print(f'Test Set Size: {len(test_set)}')\n",
        "print(f'Test Dataloader Size: {len(test_dataloader)}')"
      ]
    },
    {
      "cell_type": "code",
      "execution_count": null,
      "metadata": {
        "id": "HlZPkAF-Hxm7"
      },
      "outputs": [],
      "source": []
    },
    {
      "cell_type": "code",
      "execution_count": null,
      "metadata": {
        "id": "s8n9azxQgnas"
      },
      "outputs": [],
      "source": []
    },
    {
      "cell_type": "markdown",
      "metadata": {
        "id": "Kj1k7JXO7BYB"
      },
      "source": [
        "#Transfer Learning with Pretrained Models"
      ]
    },
    {
      "cell_type": "code",
      "execution_count": null,
      "metadata": {
        "id": "Vw2a71nL7WVK"
      },
      "outputs": [],
      "source": [
        "models_map = {\n",
        "    'resnet': 'resnet18',\n",
        "    'vgg': 'vgg11',\n",
        "    'squeezenet': 'squeezenet1_0',\n",
        "    'mobilenet': 'mobilenetv2'\n",
        "    }\n",
        "\n",
        "class PreTrainedResNet(nn.Module):\n",
        "  def __init__(self, num_classes, feature_extracting):\n",
        "    super(PreTrainedResNet, self).__init__()\n",
        "    \n",
        "    #TODO1: Load pre-trained ResNet Model\n",
        "    self.resnet18 = models.resnet18(pretrained=True)\n",
        "\n",
        "    #Set gradients to false\n",
        "    if feature_extracting:\n",
        "      for param in self.resnet18.parameters():\n",
        "          param.requires_grad = False\n",
        "    \n",
        "    #Replace last fc layer\n",
        "    num_feats = self.resnet18.fc.in_features\n",
        "    \n",
        "    #TODO2: Replace fc layer in resnet to a linear layer of size (num_feats, num_classes)\n",
        "    self.resnet18.fc = nn.Linear(num_feats, num_classes)\n",
        "    \n",
        "  def forward(self, x):\n",
        "    #TODO3: Forward pass x through the model\n",
        "    x = self.resnet18(x)\n",
        "\n",
        "    return x\n",
        "\n",
        "\n",
        "class PreTrainedVGGNet(nn.Module):\n",
        "  def __init__(self, num_classes, feature_extracting):\n",
        "    super(PreTrainedVGGNet, self).__init__()\n",
        "    \n",
        "    #TODO1: Load pre-trained VGGNet Model\n",
        "    self.vgg11 = models.vgg11(pretrained=True)\n",
        "\n",
        "    #Set gradients to false\n",
        "    if feature_extracting:\n",
        "      for param in self.vgg11.parameters():\n",
        "          param.requires_grad = False\n",
        "    \n",
        "    #Replace output layer (Ref: https://pytorch.org/tutorials/beginner/finetuning_torchvision_models_tutorial.html)\n",
        "    self.vgg11.classifier[6] = nn.Linear(4096, num_classes)\n",
        "    \n",
        "  def forward(self, x):\n",
        "    #TODO3: Forward pass x through the model\n",
        "    x = self.vgg11(x)\n",
        "\n",
        "    return x\n",
        "\n",
        "\n",
        "class PreTrainedSqueezeNet(nn.Module):\n",
        "  def __init__(self, num_classes, feature_extracting):\n",
        "    super(PreTrainedSqueezeNet, self).__init__()\n",
        "    \n",
        "    #TODO1: Load pre-trained SqueezeNet Model\n",
        "    self.squeezenet1_0 = models.squeezenet1_0(pretrained=True)\n",
        "\n",
        "    #Set gradients to false\n",
        "    if feature_extracting:\n",
        "      for param in self.squeezenet1_0.parameters():\n",
        "          param.requires_grad = False\n",
        "    \n",
        "    #TODO2: Replace output layer (Ref: https://pytorch.org/tutorials/beginner/finetuning_torchvision_models_tutorial.html)\n",
        "    self.squeezenet1_0.classifier[1] = nn.Conv2d(512, num_classes, kernel_size=(1,1), stride=(1,1))\n",
        "    self.squeezenet1_0.num_classes = num_classes\n",
        "    \n",
        "  def forward(self, x):\n",
        "    #TODO3: Forward pass x through the model\n",
        "    x = self.squeezenet1_0(x)\n",
        "\n",
        "    return x\n",
        "\n",
        "\n",
        "class PreTrainedMobileNet(nn.Module):\n",
        "  def __init__(self, num_classes, class_dict, feature_extracting):\n",
        "    super(PreTrainedMobileNet, self).__init__()\n",
        "    \n",
        "    #TODO1: Load pre-trained MobileNet Model\n",
        "    self.mobilenet_v2 = models.mobilenet_v2(pretrained=True)\n",
        "    self.class_dict = class_dict\n",
        "\n",
        "    #Set gradients to false\n",
        "    if feature_extracting:\n",
        "      for param in self.mobilenet_v2.parameters():\n",
        "          param.requires_grad = False\n",
        "    \n",
        "    #TODO2: Replace output layer (Ref: https://stackoverflow.com/questions/57285224/fine-tuning-pretrained-model-mobilenet-v2-in-pytorch)\n",
        "    self.mobilenet_v2.classifier[1] = nn.Linear(self.mobilenet_v2.last_channel, num_classes)\n",
        "    \n",
        "  def forward(self, x):\n",
        "    #TODO3: Forward pass x through the model\n",
        "    x = self.mobilenet_v2(x)\n",
        "\n",
        "    return x\n"
      ]
    },
    {
      "cell_type": "code",
      "execution_count": null,
      "metadata": {
        "id": "P-3FfIww7Y_f"
      },
      "outputs": [],
      "source": [
        "# Nothing to be edited in this cell\n",
        "def calculate_val_accuracy(valloader, is_gpu):\n",
        "    \"\"\" Util function to calculate val set accuracy,\n",
        "    both overall and per class accuracy\n",
        "    Args:\n",
        "        valloader (torch.utils.data.DataLoader): val set \n",
        "        is_gpu (bool): whether to run on GPU\n",
        "    Returns:\n",
        "        tuple: (overall accuracy, class level accuracy)\n",
        "    \"\"\"    \n",
        "    model.eval()\n",
        "  \n",
        "    correct = 0.0\n",
        "    total = 0.\n",
        "    predictions = []\n",
        "    all_labels = []\n",
        "    all_original_labels = []\n",
        "\n",
        "    class_correct = torch.zeros(size=(TOTAL_CLASSES, 1)).cuda() \n",
        "    class_total = torch.zeros(size=(TOTAL_CLASSES,1)).cuda()\n",
        "  \n",
        "    with torch.no_grad():\n",
        "        for batch_idx, (images, labels, original_labels) in enumerate(valloader):\n",
        "          #move to GPU\n",
        "          images, labels = images.cuda(), labels.cuda()\n",
        "          total += labels.size(0)\n",
        "\n",
        "          #forward\n",
        "          outputs = model.forward(images)\n",
        "\n",
        "\n",
        "          _, preds = torch.max(outputs.data, 1)\n",
        "          predictions.extend(list(preds.cpu().numpy()))\n",
        "          all_labels.append(labels)\n",
        "          all_original_labels.append(original_labels)\n",
        "\n",
        "          correct += (preds == labels).sum()\n",
        "          #print('labels', torch.where(labels==class_map['middle_of_sidewalk'])[0])\n",
        "          #print('predictions', torch.where(preds==class_map['middle_of_sidewalk'])[0])\n",
        "          c = (preds == labels)\n",
        "          for i in range(len(labels)):\n",
        "              label = labels[i]\n",
        "              class_correct[label] += c[i]\n",
        "              class_total[label] += 1\n",
        "        all_labels = torch.stack(all_labels)\n",
        "        all_original_labels = torch.stack(all_original_labels)\n",
        "        \n",
        "        for object_class in model.class_dict.keys():\n",
        "            idx = torch.where(all_original_labels == object_class)[0]\n",
        "            instances = predictions[idx]\n",
        "            target_instances = all_labels[idx]\n",
        "            correct = (predictions == all_labels).sum()\n",
        "            class_accuracy = (correct/instances.size(0))*100\n",
        "        \n",
        "\n",
        "\n",
        "    \n",
        "    class_accuracy = torch.divide(class_correct, class_total).cpu().numpy()\n",
        "    validation_acc = correct/total\n",
        "\n",
        "    return validation_acc, class_accuracy\n"
      ]
    },
    {
      "cell_type": "code",
      "execution_count": null,
      "metadata": {
        "id": "zMlu82K87d8c"
      },
      "outputs": [],
      "source": [
        "def train(model, optimizer, scheduler, criterion, epoch, num_epochs, patience = 10):\n",
        "  model.train()\n",
        "  epoch_loss = 0.0\n",
        "  epoch_acc = 0.0\n",
        "  total = 0.\n",
        "  \n",
        "\n",
        "  \n",
        "  for batch_idx, (images, labels, original_labels) in enumerate(train_dataloader):\n",
        "    #zero the parameter gradients\n",
        "    optimizer.zero_grad()\n",
        "    \n",
        "    #move to GPU\n",
        "    images, labels = images.cuda(), labels.cuda()\n",
        "    total += labels.size(0)\n",
        "    \n",
        "    #forward\n",
        "    outputs = model.forward(images)\n",
        "    \n",
        "    loss = criterion(outputs, labels)\n",
        "    \n",
        "    _, preds = torch.max(outputs.data, 1)\n",
        "    \n",
        "    loss.backward()\n",
        "    optimizer.step()\n",
        "    scheduler.step()\n",
        "    \n",
        "    epoch_loss += loss.item()\n",
        "    epoch_acc += torch.sum(preds == labels).item()\n",
        "    \n",
        "  epoch_loss /= len(train_dataloader)\n",
        "  epoch_acc /= total\n",
        "\n",
        "  # Calculate validation set accuracy of the existing model\n",
        "  val_accuracy, val_classwise_accuracy = \\\n",
        "      calculate_val_accuracy(val_dataloader, IS_GPU)\n",
        "  \n",
        "  print(f'Epoch {epoch}/{num_epochs} Training Loss {epoch_loss} Training Accuracy {100*epoch_acc}% Validation Accuracy {100*val_accuracy}%')\n",
        "\n",
        "\n",
        "  # Optionally print classwise accuracies\n",
        "  for c_i in range(TOTAL_CLASSES):\n",
        "    print(f'Accuracy of {labels_map[c_i]} : {100*val_classwise_accuracy[c_i]}%')\n",
        "  return val_accuracy\n",
        "\n",
        "def early_stop(val_accuracy, best_accuracy, patience, max_patience):\n",
        "  if val_accuracy <= best_accuracy:\n",
        "    return True\n",
        "  return False\n",
        "\n",
        "\n",
        "  "
      ]
    },
    {
      "cell_type": "code",
      "execution_count": null,
      "metadata": {
        "id": "VMcv03Izb9tQ"
      },
      "outputs": [],
      "source": []
    },
    {
      "cell_type": "code",
      "execution_count": null,
      "metadata": {
        "colab": {
          "base_uri": "https://localhost:8080/"
        },
        "id": "5KJNUb2w73yP",
        "outputId": "57d06665-54ea-4fd3-dca9-0bbd83346f40"
      },
      "outputs": [
        {
          "name": "stdout",
          "output_type": "stream",
          "text": [
            "Train Set Size: 2000\n",
            "Train Dataloader Size: 63\n",
            "Val Set Size: 526\n",
            "Val Dataloader Size: 106\n",
            "Test Set Size: 574\n",
            "Test Dataloader Size: 115\n"
          ]
        }
      ],
      "source": [
        "#TODO: Vary Hyperparams\n",
        "\n",
        "IS_GPU = True\n",
        "NUM_EPOCHS = 15\n",
        "LEARNING_RATE = 0.001\n",
        "TRAIN_BS = 32\n",
        "VAL_BS = 5\n",
        "TEST_BS = 5\n",
        "TOTAL_CLASSES = 8\n",
        "\n",
        "train_transform = transforms.Compose(\n",
        "    [transforms.ToTensor(), \n",
        "     #transforms.Normalize([0,0,0], [1,1,1]), \n",
        "     transforms.Normalize([0.485, 0.456, 0.406], [0.229, 0.224, 0.225]), \n",
        "     transforms.RandomHorizontalFlip()])\n",
        "\n",
        "val_transform = transforms.Compose(\n",
        "    [transforms.ToTensor(),\n",
        "     #transforms.Normalize([0,0,0], [1,1,1])\n",
        "     transforms.Normalize([0.485, 0.456, 0.406], [0.229, 0.224, 0.225]) \n",
        "     ])\n",
        "\n",
        "train_set = CustomDataset(data_path='Radar_PostProcess_Heatmaps/train', transform=train_transform)\t\t\n",
        "\n",
        "train_dataloader = DataLoader(train_set, batch_size=32, shuffle=True, num_workers=2)\n",
        "print(f'Train Set Size: {len(train_set)}')\n",
        "print(f'Train Dataloader Size: {len(train_dataloader)}')\n",
        "\n",
        "val_set = CustomDataset(data_path='Radar_PostProcess_Heatmaps/val', transform=val_transform)\t\t\n",
        "val_dataloader = DataLoader(val_set, batch_size=5, shuffle=True, num_workers=2)\n",
        "print(f'Val Set Size: {len(val_set)}')\n",
        "print(f'Val Dataloader Size: {len(val_dataloader)}')\n",
        "\n",
        "test_set = CustomDataset(data_path='Radar_PostProcess_Heatmaps/test', transform=val_transform)\t\t\n",
        "test_dataloader = DataLoader(test_set, batch_size=5, shuffle=True, num_workers=2)\n",
        "print(f'Test Set Size: {len(test_set)}')\n",
        "print(f'Test Dataloader Size: {len(test_dataloader)}')\n",
        "\n"
      ]
    },
    {
      "cell_type": "code",
      "execution_count": null,
      "metadata": {
        "colab": {
          "base_uri": "https://localhost:8080/"
        },
        "id": "OS7aig56S4A0",
        "outputId": "4c71f879-ad88-4155-b07b-230183521f84"
      },
      "outputs": [
        {
          "name": "stdout",
          "output_type": "stream",
          "text": [
            "Feature batch shape: torch.Size([32, 3, 200, 400])\n",
            "Labels batch shape: torch.Size([32])\n"
          ]
        }
      ],
      "source": [
        "train_features, train_labels = next(iter(train_dataloader))\n",
        "print(f\"Feature batch shape: {train_features.size()}\")\n",
        "print(f\"Labels batch shape: {train_labels.size()}\")\n",
        "img = train_features[0].squeeze()\n",
        "label = train_labels[0]\n",
        "\n",
        "#print('sample shape', img)\n"
      ]
    },
    {
      "cell_type": "markdown",
      "metadata": {
        "id": "upBTnz4X6vmv"
      },
      "source": [
        "##ResNet18"
      ]
    },
    {
      "cell_type": "code",
      "execution_count": null,
      "metadata": {
        "colab": {
          "base_uri": "https://localhost:8080/"
        },
        "id": "O87Qe4k08BdB",
        "outputId": "70391163-d00d-458b-a852-001490a5dabc"
      },
      "outputs": [
        {
          "name": "stdout",
          "output_type": "stream",
          "text": [
            "Total Params: 11180616\n",
            "Epoch 1/70 Training Loss 1.0727002790996008 Training Accuracy 61.7% Validation Accuracy 14.068441390991211%\n",
            "Accuracy of bicyclerack : [0.]%\n",
            "Accuracy of bush : [0.]%\n",
            "Accuracy of firehydrant : [0.]%\n",
            "Accuracy of human : [0.]%\n",
            "Accuracy of lamppost : [98.24561]%\n",
            "Accuracy of middle_of_sidewalk : [0.]%\n",
            "Accuracy of tree : [0.]%\n",
            "Accuracy of wall : [19.565218]%\n",
            "Saving Model\n",
            "Model Saved\n",
            "Epoch 2/70 Training Loss 1.1335357683045524 Training Accuracy 57.15% Validation Accuracy 12.357414245605469%\n",
            "Accuracy of bicyclerack : [0.]%\n",
            "Accuracy of bush : [0.]%\n",
            "Accuracy of firehydrant : [0.]%\n",
            "Accuracy of human : [0.]%\n",
            "Accuracy of lamppost : [100.]%\n",
            "Accuracy of middle_of_sidewalk : [0.]%\n",
            "Accuracy of tree : [0.]%\n",
            "Accuracy of wall : [8.695652]%\n",
            "Epoch 3/70 Training Loss 1.112493165901729 Training Accuracy 58.25% Validation Accuracy 12.547529220581055%\n",
            "Accuracy of bicyclerack : [0.]%\n",
            "Accuracy of bush : [100.]%\n",
            "Accuracy of firehydrant : [0.]%\n",
            "Accuracy of human : [0.]%\n",
            "Accuracy of lamppost : [0.]%\n",
            "Accuracy of middle_of_sidewalk : [17.045454]%\n",
            "Accuracy of tree : [0.]%\n",
            "Accuracy of wall : [0.]%\n",
            "Epoch 4/70 Training Loss 1.5654378013005332 Training Accuracy 39.0% Validation Accuracy 17.490493774414062%\n",
            "Accuracy of bicyclerack : [0.]%\n",
            "Accuracy of bush : [0.]%\n",
            "Accuracy of firehydrant : [0.]%\n",
            "Accuracy of human : [0.]%\n",
            "Accuracy of lamppost : [0.]%\n",
            "Accuracy of middle_of_sidewalk : [0.]%\n",
            "Accuracy of tree : [0.]%\n",
            "Accuracy of wall : [100.]%\n",
            "Epoch 5/70 Training Loss 1.5522430945956518 Training Accuracy 39.15% Validation Accuracy 17.8707218170166%\n",
            "Accuracy of bicyclerack : [0.]%\n",
            "Accuracy of bush : [0.]%\n",
            "Accuracy of firehydrant : [6.25]%\n",
            "Accuracy of human : [0.]%\n",
            "Accuracy of lamppost : [0.]%\n",
            "Accuracy of middle_of_sidewalk : [29.545454]%\n",
            "Accuracy of tree : [0.]%\n",
            "Accuracy of wall : [67.391304]%\n",
            "Epoch 6/70 Training Loss 1.4451607352211362 Training Accuracy 43.85% Validation Accuracy 16.730037689208984%\n",
            "Accuracy of bicyclerack : [0.]%\n",
            "Accuracy of bush : [0.]%\n",
            "Accuracy of firehydrant : [0.]%\n",
            "Accuracy of human : [0.]%\n",
            "Accuracy of lamppost : [0.]%\n",
            "Accuracy of middle_of_sidewalk : [100.]%\n",
            "Accuracy of tree : [0.]%\n",
            "Accuracy of wall : [0.]%\n",
            "Epoch 7/70 Training Loss 1.312564982308282 Training Accuracy 49.2% Validation Accuracy 16.730037689208984%\n",
            "Accuracy of bicyclerack : [0.]%\n",
            "Accuracy of bush : [0.]%\n",
            "Accuracy of firehydrant : [0.]%\n",
            "Accuracy of human : [0.]%\n",
            "Accuracy of lamppost : [0.]%\n",
            "Accuracy of middle_of_sidewalk : [100.]%\n",
            "Accuracy of tree : [0.]%\n",
            "Accuracy of wall : [0.]%\n",
            "Epoch 8/70 Training Loss 1.2386785575321742 Training Accuracy 51.15% Validation Accuracy 22.433460235595703%\n",
            "Accuracy of bicyclerack : [0.]%\n",
            "Accuracy of bush : [0.]%\n",
            "Accuracy of firehydrant : [0.]%\n",
            "Accuracy of human : [0.]%\n",
            "Accuracy of lamppost : [0.]%\n",
            "Accuracy of middle_of_sidewalk : [47.727272]%\n",
            "Accuracy of tree : [0.]%\n",
            "Accuracy of wall : [82.608696]%\n",
            "Epoch 9/70 Training Loss 1.0359795084075323 Training Accuracy 59.5% Validation Accuracy 36.88212966918945%\n",
            "Accuracy of bicyclerack : [0.]%\n",
            "Accuracy of bush : [0.]%\n",
            "Accuracy of firehydrant : [73.95833]%\n",
            "Accuracy of human : [0.]%\n",
            "Accuracy of lamppost : [0.]%\n",
            "Accuracy of middle_of_sidewalk : [73.86364]%\n",
            "Accuracy of tree : [0.]%\n",
            "Accuracy of wall : [63.04348]%\n",
            "Epoch 10/70 Training Loss 0.9543802700345478 Training Accuracy 63.0% Validation Accuracy 21.292776107788086%\n",
            "Accuracy of bicyclerack : [0.]%\n",
            "Accuracy of bush : [0.]%\n",
            "Accuracy of firehydrant : [0.]%\n",
            "Accuracy of human : [0.]%\n",
            "Accuracy of lamppost : [0.]%\n",
            "Accuracy of middle_of_sidewalk : [22.727274]%\n",
            "Accuracy of tree : [0.]%\n",
            "Accuracy of wall : [100.]%\n",
            "Epoch 11/70 Training Loss 0.9093356000052558 Training Accuracy 65.2% Validation Accuracy 28.326997756958008%\n",
            "Accuracy of bicyclerack : [0.]%\n",
            "Accuracy of bush : [0.]%\n",
            "Accuracy of firehydrant : [15.625]%\n",
            "Accuracy of human : [0.]%\n",
            "Accuracy of lamppost : [0.]%\n",
            "Accuracy of middle_of_sidewalk : [71.590904]%\n",
            "Accuracy of tree : [0.]%\n",
            "Accuracy of wall : [77.17391]%\n",
            "Saving Model\n",
            "Model Saved\n",
            "Epoch 12/70 Training Loss 0.8439359248630585 Training Accuracy 67.10000000000001% Validation Accuracy 34.60076141357422%\n",
            "Accuracy of bicyclerack : [0.]%\n",
            "Accuracy of bush : [21.568628]%\n",
            "Accuracy of firehydrant : [48.958336]%\n",
            "Accuracy of human : [0.]%\n",
            "Accuracy of lamppost : [12.280702]%\n",
            "Accuracy of middle_of_sidewalk : [72.72727]%\n",
            "Accuracy of tree : [0.]%\n",
            "Accuracy of wall : [57.608692]%\n",
            "Saving Model\n",
            "Model Saved\n",
            "Epoch 13/70 Training Loss 0.7878053614071437 Training Accuracy 69.65% Validation Accuracy 23.764259338378906%\n",
            "Accuracy of bicyclerack : [0.]%\n",
            "Accuracy of bush : [0.]%\n",
            "Accuracy of firehydrant : [42.708336]%\n",
            "Accuracy of human : [0.]%\n",
            "Accuracy of lamppost : [1.754386]%\n",
            "Accuracy of middle_of_sidewalk : [75.]%\n",
            "Accuracy of tree : [0.]%\n",
            "Accuracy of wall : [18.47826]%\n",
            "Epoch 14/70 Training Loss 0.7716960679917109 Training Accuracy 70.55% Validation Accuracy 33.46007537841797%\n",
            "Accuracy of bicyclerack : [0.]%\n",
            "Accuracy of bush : [54.901962]%\n",
            "Accuracy of firehydrant : [54.166668]%\n",
            "Accuracy of human : [18.60465]%\n",
            "Accuracy of lamppost : [0.]%\n",
            "Accuracy of middle_of_sidewalk : [51.136364]%\n",
            "Accuracy of tree : [0.]%\n",
            "Accuracy of wall : [46.739132]%\n",
            "Epoch 15/70 Training Loss 0.6972693086616577 Training Accuracy 74.05000000000001% Validation Accuracy 22.24334716796875%\n",
            "Accuracy of bicyclerack : [0.]%\n",
            "Accuracy of bush : [5.882353]%\n",
            "Accuracy of firehydrant : [0.]%\n",
            "Accuracy of human : [0.]%\n",
            "Accuracy of lamppost : [0.]%\n",
            "Accuracy of middle_of_sidewalk : [23.863636]%\n",
            "Accuracy of tree : [14.]%\n",
            "Accuracy of wall : [93.478264]%\n",
            "Epoch 16/70 Training Loss 0.6962389085027907 Training Accuracy 74.6% Validation Accuracy 27.946767807006836%\n",
            "Accuracy of bicyclerack : [0.]%\n",
            "Accuracy of bush : [5.882353]%\n",
            "Accuracy of firehydrant : [60.416668]%\n",
            "Accuracy of human : [0.]%\n",
            "Accuracy of lamppost : [5.263158]%\n",
            "Accuracy of middle_of_sidewalk : [71.590904]%\n",
            "Accuracy of tree : [0.]%\n",
            "Accuracy of wall : [21.73913]%\n",
            "Epoch 17/70 Training Loss 0.5546032213975512 Training Accuracy 81.55% Validation Accuracy 35.171104431152344%\n",
            "Accuracy of bicyclerack : [0.]%\n",
            "Accuracy of bush : [19.607843]%\n",
            "Accuracy of firehydrant : [48.958336]%\n",
            "Accuracy of human : [6.9767447]%\n",
            "Accuracy of lamppost : [1.754386]%\n",
            "Accuracy of middle_of_sidewalk : [67.045456]%\n",
            "Accuracy of tree : [6.]%\n",
            "Accuracy of wall : [67.391304]%\n",
            "Saving Model\n",
            "Model Saved\n",
            "Epoch 18/70 Training Loss 0.5332608956193167 Training Accuracy 82.75% Validation Accuracy 38.59315490722656%\n",
            "Accuracy of bicyclerack : [0.]%\n",
            "Accuracy of bush : [49.019608]%\n",
            "Accuracy of firehydrant : [48.958336]%\n",
            "Accuracy of human : [9.302325]%\n",
            "Accuracy of lamppost : [1.754386]%\n",
            "Accuracy of middle_of_sidewalk : [65.909096]%\n",
            "Accuracy of tree : [2.]%\n",
            "Accuracy of wall : [72.82609]%\n",
            "Saving Model\n",
            "Model Saved\n",
            "Epoch 19/70 Training Loss 0.5140478606261905 Training Accuracy 84.7% Validation Accuracy 31.749048233032227%\n",
            "Accuracy of bicyclerack : [0.]%\n",
            "Accuracy of bush : [35.294117]%\n",
            "Accuracy of firehydrant : [16.666668]%\n",
            "Accuracy of human : [0.]%\n",
            "Accuracy of lamppost : [0.]%\n",
            "Accuracy of middle_of_sidewalk : [62.5]%\n",
            "Accuracy of tree : [2.]%\n",
            "Accuracy of wall : [83.69565]%\n",
            "Epoch 20/70 Training Loss 0.5132415195306143 Training Accuracy 84.2% Validation Accuracy 33.65018844604492%\n",
            "Accuracy of bicyclerack : [0.]%\n",
            "Accuracy of bush : [21.568628]%\n",
            "Accuracy of firehydrant : [50.]%\n",
            "Accuracy of human : [30.232557]%\n",
            "Accuracy of lamppost : [1.754386]%\n",
            "Accuracy of middle_of_sidewalk : [65.909096]%\n",
            "Accuracy of tree : [2.]%\n",
            "Accuracy of wall : [48.913044]%\n",
            "Epoch 21/70 Training Loss 0.46542152998939396 Training Accuracy 87.05000000000001% Validation Accuracy 36.692012786865234%\n",
            "Accuracy of bicyclerack : [0.]%\n",
            "Accuracy of bush : [41.17647]%\n",
            "Accuracy of firehydrant : [48.958336]%\n",
            "Accuracy of human : [34.88372]%\n",
            "Accuracy of lamppost : [1.754386]%\n",
            "Accuracy of middle_of_sidewalk : [65.909096]%\n",
            "Accuracy of tree : [0.]%\n",
            "Accuracy of wall : [55.43478]%\n",
            "Epoch 22/70 Training Loss 0.4653337782337552 Training Accuracy 86.75% Validation Accuracy 34.22053146362305%\n",
            "Accuracy of bicyclerack : [0.]%\n",
            "Accuracy of bush : [27.450981]%\n",
            "Accuracy of firehydrant : [48.958336]%\n",
            "Accuracy of human : [16.27907]%\n",
            "Accuracy of lamppost : [1.754386]%\n",
            "Accuracy of middle_of_sidewalk : [65.909096]%\n",
            "Accuracy of tree : [2.]%\n",
            "Accuracy of wall : [56.521736]%\n",
            "Epoch 23/70 Training Loss 0.43684138050155036 Training Accuracy 88.4% Validation Accuracy 35.171104431152344%\n",
            "Accuracy of bicyclerack : [0.]%\n",
            "Accuracy of bush : [37.2549]%\n",
            "Accuracy of firehydrant : [47.916664]%\n",
            "Accuracy of human : [11.627908]%\n",
            "Accuracy of lamppost : [3.508772]%\n",
            "Accuracy of middle_of_sidewalk : [63.636364]%\n",
            "Accuracy of tree : [6.]%\n",
            "Accuracy of wall : [58.69565]%\n",
            "Epoch 24/70 Training Loss 0.4165261047227042 Training Accuracy 89.55% Validation Accuracy 34.79087448120117%\n",
            "Accuracy of bicyclerack : [0.]%\n",
            "Accuracy of bush : [35.294117]%\n",
            "Accuracy of firehydrant : [43.75]%\n",
            "Accuracy of human : [9.302325]%\n",
            "Accuracy of lamppost : [1.754386]%\n",
            "Accuracy of middle_of_sidewalk : [65.909096]%\n",
            "Accuracy of tree : [6.]%\n",
            "Accuracy of wall : [61.95652]%\n",
            "Epoch 25/70 Training Loss 0.4177785726293685 Training Accuracy 89.7% Validation Accuracy 35.931556701660156%\n",
            "Accuracy of bicyclerack : [0.]%\n",
            "Accuracy of bush : [43.137257]%\n",
            "Accuracy of firehydrant : [47.916664]%\n",
            "Accuracy of human : [16.27907]%\n",
            "Accuracy of lamppost : [1.754386]%\n",
            "Accuracy of middle_of_sidewalk : [64.77273]%\n",
            "Accuracy of tree : [2.]%\n",
            "Accuracy of wall : [59.782608]%\n",
            "Epoch 26/70 Training Loss 0.4025303702505808 Training Accuracy 90.4% Validation Accuracy 35.171104431152344%\n",
            "Accuracy of bicyclerack : [0.]%\n",
            "Accuracy of bush : [35.294117]%\n",
            "Accuracy of firehydrant : [48.958336]%\n",
            "Accuracy of human : [16.27907]%\n",
            "Accuracy of lamppost : [1.754386]%\n",
            "Accuracy of middle_of_sidewalk : [65.909096]%\n",
            "Accuracy of tree : [4.]%\n",
            "Accuracy of wall : [56.521736]%\n",
            "Epoch 27/70 Training Loss 0.3999802160357672 Training Accuracy 90.8% Validation Accuracy 37.072242736816406%\n",
            "Accuracy of bicyclerack : [0.]%\n",
            "Accuracy of bush : [47.058823]%\n",
            "Accuracy of firehydrant : [44.791664]%\n",
            "Accuracy of human : [13.953489]%\n",
            "Accuracy of lamppost : [1.754386]%\n",
            "Accuracy of middle_of_sidewalk : [64.77273]%\n",
            "Accuracy of tree : [2.]%\n",
            "Accuracy of wall : [68.478264]%\n",
            "Epoch 28/70 Training Loss 0.4089191447174738 Training Accuracy 89.7% Validation Accuracy 35.931556701660156%\n",
            "Accuracy of bicyclerack : [0.]%\n",
            "Accuracy of bush : [45.098038]%\n",
            "Accuracy of firehydrant : [47.916664]%\n",
            "Accuracy of human : [16.27907]%\n",
            "Accuracy of lamppost : [1.754386]%\n",
            "Accuracy of middle_of_sidewalk : [63.636364]%\n",
            "Accuracy of tree : [4.]%\n",
            "Accuracy of wall : [58.69565]%\n",
            "Validation accuracy did not improve in 10 epochs, early stopping\n",
            "Finished Training: best performing model at epoch 17\n",
            "----------\n",
            "Saving Model\n",
            "Model Saved\n",
            "Avg Throughput of Model on Test Images: 20.29698533532625 images/s\n",
            "Avg Inference Time of Model on Test Images: 11.253510541169538 ms\n"
          ]
        }
      ],
      "source": [
        "RESNET_LAST_ONLY = False #Fine tunes only the last layer. Set to False to fine tune entire network\n",
        "NUM_EPOCHS= 70\n",
        "max_patience = 10\n",
        "patience = max_patience\n",
        "best_accuracy = -100000\n",
        "warmup = 10\n",
        "labels_map = dict((v,k) for k,v in class_map.items())\n",
        "model_name = models_map['resnet']\n",
        "\n",
        "#Initialize the model\n",
        "model = PreTrainedResNet(TOTAL_CLASSES, RESNET_LAST_ONLY)\n",
        "model = model.cuda()\n",
        "model_total_params = sum(p.numel() for p in model.parameters())\n",
        "print(f'Total Params: {model_total_params}')\n",
        "\n",
        "#Setting the optimizer and loss criterion\n",
        "optimizer = optim.Adam(model.parameters(), lr=LEARNING_RATE, weight_decay=0.2)\n",
        "scheduler = optim.lr_scheduler.StepLR(optimizer=optimizer, step_size=500)\n",
        "criterion = nn.CrossEntropyLoss()\n",
        "\n",
        "#Begin Train\n",
        "for epoch in range(NUM_EPOCHS):\n",
        "  val_accuracy = train(model, optimizer, scheduler, criterion, epoch+1, NUM_EPOCHS)\n",
        "  if epoch == 0 or epoch >= warmup:\n",
        "    if val_accuracy <= best_accuracy:\n",
        "      patience -=1\n",
        "    else:\n",
        "      best_accuracy = val_accuracy\n",
        "      patience = max_patience\n",
        "      print('Saving Model')\n",
        "      torch.save(model.state_dict(), f'/content/gdrive/MyDrive/CS498 RF & IMU monitoring of electric scooter driving behaviour/models/{model_name}chkpt{epoch}.pth')\n",
        "      load_from = epoch\n",
        "      print('Model Saved')\n",
        "    if patience == 0:\n",
        "      print(f\"Validation accuracy did not improve in {max_patience} epochs, early stopping\")\n",
        "      break\n",
        "  \n",
        "print(f\"Finished Training: best performing model at epoch {load_from}\")\n",
        "print(\"-\"*10)\n",
        "\n",
        "print('Saving Model')\n",
        "model_name = models_map['resnet']\n",
        "torch.save(model.state_dict(), f'/content/gdrive/MyDrive/CS498 RF & IMU monitoring of electric scooter driving behaviour/models/{model_name}.pth')\n",
        "print('Model Saved')\n",
        "\n",
        "# Load saved model and run throughput and inference tests of model on test set\n",
        "saved_model = PreTrainedResNet(TOTAL_CLASSES, RESNET_LAST_ONLY)\n",
        "saved_model.load_state_dict(torch.load(f'/content/gdrive/MyDrive/CS498 RF & IMU monitoring of electric scooter driving behaviour/models/{model_name}.pth'))\n",
        "saved_model = saved_model.cuda()\n",
        "saved_model.eval()\n",
        "\n",
        "tp = compute_model_throughput(saved_model, test_dataloader, TEST_BS)\n",
        "print(f'Avg Throughput of Model on Test Images: {tp} images/s')\n",
        "time = compute_model_inference_time(saved_model, test_dataloader, TEST_BS)\n",
        "print(f'Avg Inference Time of Model on Test Images: {time} ms')"
      ]
    },
    {
      "cell_type": "code",
      "execution_count": null,
      "metadata": {
        "colab": {
          "base_uri": "https://localhost:8080/",
          "height": 398
        },
        "id": "atyIHVZHFFwo",
        "outputId": "d91391f2-0fb3-4b68-ff17-356540214104"
      },
      "outputs": [
        {
          "name": "stdout",
          "output_type": "stream",
          "text": [
            "cuda:0\n"
          ]
        },
        {
          "ename": "FileNotFoundError",
          "evalue": "ignored",
          "output_type": "error",
          "traceback": [
            "\u001b[0;31m---------------------------------------------------------------------------\u001b[0m",
            "\u001b[0;31mFileNotFoundError\u001b[0m                         Traceback (most recent call last)",
            "\u001b[0;32m<ipython-input-28-d7104a7e4ffb>\u001b[0m in \u001b[0;36m<module>\u001b[0;34m()\u001b[0m\n\u001b[1;32m     11\u001b[0m \u001b[0mprint\u001b[0m\u001b[0;34m(\u001b[0m\u001b[0mdevice\u001b[0m\u001b[0;34m)\u001b[0m\u001b[0;34m\u001b[0m\u001b[0;34m\u001b[0m\u001b[0m\n\u001b[1;32m     12\u001b[0m \u001b[0;34m\u001b[0m\u001b[0m\n\u001b[0;32m---> 13\u001b[0;31m \u001b[0mmodel\u001b[0m\u001b[0;34m.\u001b[0m\u001b[0mload_state_dict\u001b[0m\u001b[0;34m(\u001b[0m\u001b[0mtorch\u001b[0m\u001b[0;34m.\u001b[0m\u001b[0mload\u001b[0m\u001b[0;34m(\u001b[0m\u001b[0;34mf'/content/gdrive/MyDrive/CS498 RF & IMU monitoring of electric scooter driving behaviour/models/{model_name}chkpt{load_from}.pth'\u001b[0m\u001b[0;34m)\u001b[0m\u001b[0;34m)\u001b[0m\u001b[0;34m\u001b[0m\u001b[0;34m\u001b[0m\u001b[0m\n\u001b[0m\u001b[1;32m     14\u001b[0m \u001b[0mmodel\u001b[0m\u001b[0;34m.\u001b[0m\u001b[0meval\u001b[0m\u001b[0;34m(\u001b[0m\u001b[0;34m)\u001b[0m\u001b[0;34m\u001b[0m\u001b[0;34m\u001b[0m\u001b[0m\n\u001b[1;32m     15\u001b[0m \u001b[0;32mif\u001b[0m \u001b[0mIS_GPU\u001b[0m\u001b[0;34m:\u001b[0m\u001b[0;34m\u001b[0m\u001b[0;34m\u001b[0m\u001b[0m\n",
            "\u001b[0;32m/usr/local/lib/python3.7/dist-packages/torch/serialization.py\u001b[0m in \u001b[0;36mload\u001b[0;34m(f, map_location, pickle_module, **pickle_load_args)\u001b[0m\n\u001b[1;32m    592\u001b[0m         \u001b[0mpickle_load_args\u001b[0m\u001b[0;34m[\u001b[0m\u001b[0;34m'encoding'\u001b[0m\u001b[0;34m]\u001b[0m \u001b[0;34m=\u001b[0m \u001b[0;34m'utf-8'\u001b[0m\u001b[0;34m\u001b[0m\u001b[0;34m\u001b[0m\u001b[0m\n\u001b[1;32m    593\u001b[0m \u001b[0;34m\u001b[0m\u001b[0m\n\u001b[0;32m--> 594\u001b[0;31m     \u001b[0;32mwith\u001b[0m \u001b[0m_open_file_like\u001b[0m\u001b[0;34m(\u001b[0m\u001b[0mf\u001b[0m\u001b[0;34m,\u001b[0m \u001b[0;34m'rb'\u001b[0m\u001b[0;34m)\u001b[0m \u001b[0;32mas\u001b[0m \u001b[0mopened_file\u001b[0m\u001b[0;34m:\u001b[0m\u001b[0;34m\u001b[0m\u001b[0;34m\u001b[0m\u001b[0m\n\u001b[0m\u001b[1;32m    595\u001b[0m         \u001b[0;32mif\u001b[0m \u001b[0m_is_zipfile\u001b[0m\u001b[0;34m(\u001b[0m\u001b[0mopened_file\u001b[0m\u001b[0;34m)\u001b[0m\u001b[0;34m:\u001b[0m\u001b[0;34m\u001b[0m\u001b[0;34m\u001b[0m\u001b[0m\n\u001b[1;32m    596\u001b[0m             \u001b[0;31m# The zipfile reader is going to advance the current file position.\u001b[0m\u001b[0;34m\u001b[0m\u001b[0;34m\u001b[0m\u001b[0;34m\u001b[0m\u001b[0m\n",
            "\u001b[0;32m/usr/local/lib/python3.7/dist-packages/torch/serialization.py\u001b[0m in \u001b[0;36m_open_file_like\u001b[0;34m(name_or_buffer, mode)\u001b[0m\n\u001b[1;32m    228\u001b[0m \u001b[0;32mdef\u001b[0m \u001b[0m_open_file_like\u001b[0m\u001b[0;34m(\u001b[0m\u001b[0mname_or_buffer\u001b[0m\u001b[0;34m,\u001b[0m \u001b[0mmode\u001b[0m\u001b[0;34m)\u001b[0m\u001b[0;34m:\u001b[0m\u001b[0;34m\u001b[0m\u001b[0;34m\u001b[0m\u001b[0m\n\u001b[1;32m    229\u001b[0m     \u001b[0;32mif\u001b[0m \u001b[0m_is_path\u001b[0m\u001b[0;34m(\u001b[0m\u001b[0mname_or_buffer\u001b[0m\u001b[0;34m)\u001b[0m\u001b[0;34m:\u001b[0m\u001b[0;34m\u001b[0m\u001b[0;34m\u001b[0m\u001b[0m\n\u001b[0;32m--> 230\u001b[0;31m         \u001b[0;32mreturn\u001b[0m \u001b[0m_open_file\u001b[0m\u001b[0;34m(\u001b[0m\u001b[0mname_or_buffer\u001b[0m\u001b[0;34m,\u001b[0m \u001b[0mmode\u001b[0m\u001b[0;34m)\u001b[0m\u001b[0;34m\u001b[0m\u001b[0;34m\u001b[0m\u001b[0m\n\u001b[0m\u001b[1;32m    231\u001b[0m     \u001b[0;32melse\u001b[0m\u001b[0;34m:\u001b[0m\u001b[0;34m\u001b[0m\u001b[0;34m\u001b[0m\u001b[0m\n\u001b[1;32m    232\u001b[0m         \u001b[0;32mif\u001b[0m \u001b[0;34m'w'\u001b[0m \u001b[0;32min\u001b[0m \u001b[0mmode\u001b[0m\u001b[0;34m:\u001b[0m\u001b[0;34m\u001b[0m\u001b[0;34m\u001b[0m\u001b[0m\n",
            "\u001b[0;32m/usr/local/lib/python3.7/dist-packages/torch/serialization.py\u001b[0m in \u001b[0;36m__init__\u001b[0;34m(self, name, mode)\u001b[0m\n\u001b[1;32m    209\u001b[0m \u001b[0;32mclass\u001b[0m \u001b[0m_open_file\u001b[0m\u001b[0;34m(\u001b[0m\u001b[0m_opener\u001b[0m\u001b[0;34m)\u001b[0m\u001b[0;34m:\u001b[0m\u001b[0;34m\u001b[0m\u001b[0;34m\u001b[0m\u001b[0m\n\u001b[1;32m    210\u001b[0m     \u001b[0;32mdef\u001b[0m \u001b[0m__init__\u001b[0m\u001b[0;34m(\u001b[0m\u001b[0mself\u001b[0m\u001b[0;34m,\u001b[0m \u001b[0mname\u001b[0m\u001b[0;34m,\u001b[0m \u001b[0mmode\u001b[0m\u001b[0;34m)\u001b[0m\u001b[0;34m:\u001b[0m\u001b[0;34m\u001b[0m\u001b[0;34m\u001b[0m\u001b[0m\n\u001b[0;32m--> 211\u001b[0;31m         \u001b[0msuper\u001b[0m\u001b[0;34m(\u001b[0m\u001b[0m_open_file\u001b[0m\u001b[0;34m,\u001b[0m \u001b[0mself\u001b[0m\u001b[0;34m)\u001b[0m\u001b[0;34m.\u001b[0m\u001b[0m__init__\u001b[0m\u001b[0;34m(\u001b[0m\u001b[0mopen\u001b[0m\u001b[0;34m(\u001b[0m\u001b[0mname\u001b[0m\u001b[0;34m,\u001b[0m \u001b[0mmode\u001b[0m\u001b[0;34m)\u001b[0m\u001b[0;34m)\u001b[0m\u001b[0;34m\u001b[0m\u001b[0;34m\u001b[0m\u001b[0m\n\u001b[0m\u001b[1;32m    212\u001b[0m \u001b[0;34m\u001b[0m\u001b[0m\n\u001b[1;32m    213\u001b[0m     \u001b[0;32mdef\u001b[0m \u001b[0m__exit__\u001b[0m\u001b[0;34m(\u001b[0m\u001b[0mself\u001b[0m\u001b[0;34m,\u001b[0m \u001b[0;34m*\u001b[0m\u001b[0margs\u001b[0m\u001b[0;34m)\u001b[0m\u001b[0;34m:\u001b[0m\u001b[0;34m\u001b[0m\u001b[0;34m\u001b[0m\u001b[0m\n",
            "\u001b[0;31mFileNotFoundError\u001b[0m: [Errno 2] No such file or directory: '/content/gdrive/MyDrive/CS498 RF & IMU monitoring of electric scooter driving behaviour/models/resnet18chkpt16.pth'"
          ]
        }
      ],
      "source": [
        "model_name = models_map['resnet']\n",
        "labels_map = dict((v,k) for k,v in class_map.items())\n",
        "model = PreTrainedResNet(TOTAL_CLASSES, False)\n",
        "if not torch.cuda.is_available():\n",
        "  device = torch.device('cpu')\n",
        "  IS_GPU=False\n",
        "else:\n",
        "  device = torch.device('cuda:0')\n",
        "  IS_GPU=True\n",
        "\n",
        "print(device)\n",
        "\n",
        "model.load_state_dict(torch.load(f'/content/gdrive/MyDrive/CS498 RF & IMU monitoring of electric scooter driving behaviour/models/{model_name}chkpt{load_from}.pth'))\n",
        "model.eval()\n",
        "if IS_GPU:    \n",
        "  model.cuda()\n",
        "\n",
        "test_accuracy, test_classwise_accuracy = \\\n",
        "      calculate_val_accuracy(test_dataloader, IS_GPU)\n",
        "\n",
        "print(f'test accuracy: {100*test_accuracy}')\n",
        "\n",
        "for c_i in range(TOTAL_CLASSES):\n",
        "  print(f'Accuracy of {labels_map[c_i]} : {100*test_classwise_accuracy[c_i]}%')"
      ]
    },
    {
      "cell_type": "markdown",
      "metadata": {
        "id": "51KnNhaAHJQ9"
      },
      "source": [
        "##VGGNet"
      ]
    },
    {
      "cell_type": "code",
      "execution_count": null,
      "metadata": {
        "id": "xlWDGagEHJ6p"
      },
      "outputs": [],
      "source": [
        "VGGNET_LAST_ONLY = False\n",
        "\n",
        "#Initialize the model\n",
        "model = PreTrainedVGGNet(TOTAL_CLASSES, VGGNET_LAST_ONLY)\n",
        "model = model.cuda()\n",
        "model_total_params = sum(p.numel() for p in model.parameters())\n",
        "print(f'Total Params: {model_total_params}')\n",
        "\n",
        "#Setting the optimizer and loss criterion\n",
        "optimizer = optim.SGD(model.parameters(), lr=LEARNING_RATE, momentum=0.9)\n",
        "criterion = nn.CrossEntropyLoss()\n",
        "\n",
        "#Begin Train\n",
        "for epoch in range(NUM_EPOCHS):\n",
        "  train(model, optimizer, criterion, epoch+1, NUM_EPOCHS)\n",
        "  \n",
        "print(\"Finished Training\")\n",
        "print(\"-\"*10)\n",
        "\n",
        "print('Saving Model')\n",
        "model_name = models_map['vgg']\n",
        "torch.save(model.state_dict(), f'/content/gdrive/MyDrive/CS498 RF & IMU monitoring of electric scooter driving behaviour/models/{model_name}.pth')\n",
        "print('Model Saved')\n",
        "\n",
        "# Load saved model and run throughput and inference tests of model on test set\n",
        "saved_model = PreTrainedVGGNet(TOTAL_CLASSES, VGGNET_LAST_ONLY)\n",
        "saved_model.load_state_dict(torch.load(f'/content/gdrive/MyDrive/CS498 RF & IMU monitoring of electric scooter driving behaviour/models/{model_name}.pth'))\n",
        "saved_model = saved_model.cuda()\n",
        "saved_model.eval()\n",
        "\n",
        "tp = compute_model_throughput(saved_model, test_dataloader, TEST_BS)\n",
        "print(f'Avg Throughput of Model on Test Images: {tp} images/s')\n",
        "time = compute_model_inference_time(saved_model, test_dataloader, TEST_BS)\n",
        "print(f'Avg Inference Time of Model on Test Images: {time} ms')"
      ]
    },
    {
      "cell_type": "markdown",
      "metadata": {
        "id": "GZ-vfiD6687b"
      },
      "source": [
        "##SqueezeNet 1.0"
      ]
    },
    {
      "cell_type": "code",
      "execution_count": null,
      "metadata": {
        "id": "4PkSmpnwoKsK"
      },
      "outputs": [],
      "source": [
        "SQUEEZENET_LAST_ONLY = False\n",
        "\n",
        "\n",
        "#Initialize the model\n",
        "model = PreTrainedSqueezeNet(TOTAL_CLASSES, SQUEEZENET_LAST_ONLY)\n",
        "model = model.cuda()\n",
        "model_total_params = sum(p.numel() for p in model.parameters())\n",
        "print(f'Total Params: {model_total_params}')\n",
        "\n",
        "#Setting the optimizer and loss criterion\n",
        "optimizer = optim.SGD(model.parameters(), lr=LEARNING_RATE, momentum=0.9)\n",
        "criterion = nn.CrossEntropyLoss()\n",
        "\n",
        "#Begin Train\n",
        "for epoch in range(NUM_EPOCHS):\n",
        "  train(model, optimizer, criterion, epoch+1, NUM_EPOCHS)\n",
        "  \n",
        "print(\"Finished Training\")\n",
        "print(\"-\"*10)\n",
        "\n",
        "print('Saving Model')\n",
        "model_name = models_map['squeezenet']\n",
        "torch.save(model.state_dict(), f'/content/gdrive/MyDrive/CS498 RF & IMU monitoring of electric scooter driving behaviour/models/{model_name}.pth')\n",
        "print('Model Saved')\n",
        "\n",
        "# Load saved model and run throughput and inference tests of model on test set\n",
        "saved_model = PreTrainedSqueezeNet(TOTAL_CLASSES, SQUEEZENET_LAST_ONLY)\n",
        "saved_model.load_state_dict(torch.load(f'/content/gdrive/MyDrive/CS498 RF & IMU monitoring of electric scooter driving behaviour/models/{model_name}.pth'))\n",
        "saved_model = saved_model.cuda()\n",
        "saved_model.eval()\n",
        "\n",
        "tp = compute_model_throughput(saved_model, test_dataloader, TEST_BS)\n",
        "print(f'Avg Throughput of Model on Test Images: {tp} images/s')\n",
        "time = compute_model_inference_time(saved_model, test_dataloader, TEST_BS)\n",
        "print(f'Avg Inference Time of Model on Test Images: {time} ms')"
      ]
    },
    {
      "cell_type": "markdown",
      "metadata": {
        "id": "W7GpQ9e87FYf"
      },
      "source": [
        "##MobileNetv2"
      ]
    },
    {
      "cell_type": "code",
      "execution_count": null,
      "metadata": {
        "colab": {
          "background_save": true
        },
        "id": "wDrGfeQW1n8w"
      },
      "outputs": [],
      "source": [
        "MOBILENET_LAST_ONLY = False\n",
        "NUM_EPOCHS= 70\n",
        "max_patience = 10\n",
        "patience = max_patience\n",
        "best_accuracy = -100000\n",
        "warmup = 10\n",
        "load_from = NUM_EPOCHS-1\n",
        "labels_map = dict((v,k) for k,v in class_map.items())\n",
        "\n",
        "#Initialize the model\n",
        "model = PreTrainedMobileNet(TOTAL_CLASSES, MOBILENET_LAST_ONLY)\n",
        "model = model.cuda()\n",
        "model_total_params = sum(p.numel() for p in model.parameters())\n",
        "print(f'Total Params: {model_total_params}')\n",
        "\n",
        "#Setting the optimizer and loss criterion\n",
        "#optimizer = optim.SGD(model.parameters(), lr=LEARNING_RATE, momentum=0.9)\n",
        "optimizer = optim.Adam(model.parameters(), lr=LEARNING_RATE, weight_decay=0.2)\n",
        "scheduler = optim.lr_scheduler.StepLR(optimizer=optimizer, step_size=500)\n",
        "criterion = nn.CrossEntropyLoss()\n",
        "##TODO  weight decay, dropout, selectively unfreezing layers, early stopping\n",
        "\n",
        "#Begin Train\n",
        "for epoch in range(NUM_EPOCHS):\n",
        "  val_accuracy = train(model, optimizer, scheduler, criterion, epoch+1, NUM_EPOCHS)\n",
        "  if epoch == 0 or epoch >= warmup:\n",
        "    if val_accuracy <= best_accuracy:\n",
        "      patience -=1\n",
        "    else:\n",
        "      best_accuracy = val_accuracy\n",
        "      patience = max_patience\n",
        "      print('Saving Model')\n",
        "      model_name = models_map['mobilenet']\n",
        "      torch.save(model.state_dict(), f'/content/gdrive/MyDrive/CS498 RF & IMU monitoring of electric scooter driving behaviour/models/{model_name}chkpt{epoch}.pth')\n",
        "      load_from = epoch\n",
        "      print('Model Saved')\n",
        "    if patience == 0:\n",
        "      print(f\"Validation accuracy did not improve in {max_patience} epochs, early stopping\")\n",
        "      break\n",
        "  \n",
        "print(f\"Finished Training: best performing model at epoch {load_from}\")\n",
        "print(\"-\"*10)\n",
        "\n",
        "#print('Saving Model')\n",
        "#model_name = models_map['mobilenet']\n",
        "#torch.save(model.state_dict(), f'/content/gdrive/MyDrive/CS498 RF & IMU monitoring of electric scooter driving behaviour/models/{model_name}.pth')\n",
        "#print('Model Saved')\n",
        "\n",
        "# Load saved model and run throughput and inference tests of model on test set\n",
        "saved_model = PreTrainedMobileNet(TOTAL_CLASSES, MOBILENET_LAST_ONLY)\n",
        "saved_model.load_state_dict(torch.load(f'/content/gdrive/MyDrive/CS498 RF & IMU monitoring of electric scooter driving behaviour/models/{model_name}chkpt{load_from}.pth'))\n",
        "saved_model = saved_model.cuda()\n",
        "saved_model.eval()\n",
        "\n",
        "tp = compute_model_throughput(saved_model, test_dataloader, TEST_BS)\n",
        "print(f'Avg Throughput of Model on Test Images: {tp} images/s')\n",
        "time = compute_model_inference_time(saved_model, test_dataloader, TEST_BS)\n",
        "print(f'Avg Inference Time of Model on Test Images: {time} ms')"
      ]
    },
    {
      "cell_type": "code",
      "execution_count": null,
      "metadata": {
        "id": "Zn5HfVHYyOzc"
      },
      "outputs": [],
      "source": [
        "load_from = 18\n"
      ]
    },
    {
      "cell_type": "code",
      "execution_count": null,
      "metadata": {
        "colab": {
          "base_uri": "https://localhost:8080/",
          "height": 240,
          "referenced_widgets": [
            "1688eefcd4e741ce86ff6a8fc6b0235b",
            "8427c25c573b4a69aaa6e107dc6788ef",
            "22ebc6fbc9d44c7cbcd2df5a893b5a40",
            "acbf42963d0147f290e2aa922ab57f35",
            "eb2e57ebc8b84dbaa352ee7df8f0de85",
            "f61017f52be040d497ef8a92c71102b7",
            "6fb10a73d484481897b6f2bdfffe4edc",
            "90840aebdaf1464390afc5a95bfc3020",
            "58cdc716a8aa4625ac6ad8e37f555354",
            "c29d973f5bfb40128e39e21b1682a6ce",
            "ef2548cdf3a5445fb513df2a105b139f"
          ]
        },
        "id": "0naC9IJzcAxq",
        "outputId": "aa3f1434-fff8-409a-c2c9-30f2634f615e"
      },
      "outputs": [
        {
          "name": "stderr",
          "output_type": "stream",
          "text": [
            "Downloading: \"https://download.pytorch.org/models/mobilenet_v2-b0353104.pth\" to /root/.cache/torch/hub/checkpoints/mobilenet_v2-b0353104.pth\n"
          ]
        },
        {
          "data": {
            "application/vnd.jupyter.widget-view+json": {
              "model_id": "1688eefcd4e741ce86ff6a8fc6b0235b",
              "version_major": 2,
              "version_minor": 0
            },
            "text/plain": [
              "  0%|          | 0.00/13.6M [00:00<?, ?B/s]"
            ]
          },
          "metadata": {},
          "output_type": "display_data"
        },
        {
          "name": "stdout",
          "output_type": "stream",
          "text": [
            "cuda:0\n",
            "test accuracy: 57.49129104614258\n",
            "Accuracy of bicyclerack : [100.]%\n",
            "Accuracy of bush : [89.79591]%\n",
            "Accuracy of firehydrant : [46.153847]%\n",
            "Accuracy of human : [1.754386]%\n",
            "Accuracy of lamppost : [32.55814]%\n",
            "Accuracy of middle_of_sidewalk : [56.25]%\n",
            "Accuracy of tree : [22.]%\n",
            "Accuracy of wall : [90.74074]%\n"
          ]
        }
      ],
      "source": [
        "\n",
        "model_name = models_map['mobilenet']\n",
        "labels_map = dict((v,k) for k,v in class_map.items())\n",
        "model = PreTrainedMobileNet(TOTAL_CLASSES, False)\n",
        "if not torch.cuda.is_available():\n",
        "  device = torch.device('cpu')\n",
        "  IS_GPU=False\n",
        "else:\n",
        "  device = torch.device('cuda:0')\n",
        "  IS_GPU=True\n",
        "\n",
        "print(device)\n",
        "\n",
        "model.load_state_dict(torch.load(f'/content/gdrive/MyDrive/CS498 RF & IMU monitoring of electric scooter driving behaviour/models/{model_name}chkpt{load_from}.pth'))\n",
        "model.eval()\n",
        "if IS_GPU:    \n",
        "  model.cuda()\n",
        "\n",
        "test_accuracy, test_classwise_accuracy = \\\n",
        "      calculate_val_accuracy(test_dataloader, IS_GPU)\n",
        "\n",
        "print(f'test accuracy: {100*test_accuracy}')\n",
        "\n",
        "for c_i in range(TOTAL_CLASSES):\n",
        "  print(f'Accuracy of {labels_map[c_i]} : {100*test_classwise_accuracy[c_i]}%')\n",
        "\n"
      ]
    },
    {
      "cell_type": "markdown",
      "metadata": {
        "id": "xCJFngYq7Q1a"
      },
      "source": [
        "##Visualize Predicted vs Actual for Some Test Heatmaps"
      ]
    },
    {
      "cell_type": "code",
      "execution_count": null,
      "metadata": {
        "id": "k15Wo60B8CbP"
      },
      "outputs": [],
      "source": [
        "def imshow(inp, title=None):\n",
        "    \"\"\"Imshow for Tensor.\"\"\"\n",
        "    inp = inp.numpy().transpose((1, 2, 0))\n",
        "    inp = np.clip(inp, 0, 1)\n",
        "    plt.imshow(inp)\n",
        "    if title is not None:\n",
        "        plt.title(title)\n",
        "    plt.pause(1)  # pause a bit so that plots are updated\n",
        "    \n",
        "def visualize_model(model, class_names, num_images=8):\n",
        "    images_so_far = 0\n",
        "    fig = plt.figure()\n",
        "\n",
        "    for batch_idx, (images, labels) in enumerate(test_dataloader):\n",
        "        #move to GPU\n",
        "        images, labels = images.cuda(), labels.cuda()\n",
        "        \n",
        "        outputs = model(images)\n",
        "        \n",
        "        _, preds = torch.max(outputs.data, 1)\n",
        "       \n",
        "\n",
        "        for j in range(images.size()[0]):\n",
        "            images_so_far += 1\n",
        "            ax = plt.subplot(num_images//2, 2, images_so_far)\n",
        "            ax.axis('off')\n",
        "            ax.set_title('class: {} predicted: {}'.format(class_names[labels.data[j]], class_names[preds[j]]))\n",
        "\n",
        "            imshow(images.cpu().data[j])\n",
        "\n",
        "            if images_so_far == num_images:\n",
        "                return"
      ]
    },
    {
      "cell_type": "code",
      "execution_count": null,
      "metadata": {
        "colab": {
          "base_uri": "https://localhost:8080/",
          "height": 633
        },
        "id": "Y6_3G63gYRmB",
        "outputId": "632cd187-39d2-4b6f-dd61-ced49c2a5a96"
      },
      "outputs": [
        {
          "data": {
            "image/png": "[encoded data removed]",
            "text/plain": [
              "<Figure size 432x288 with 1 Axes>"
            ]
          },
          "metadata": {},
          "output_type": "display_data"
        },
        {
          "data": {
            "image/png": "[encoded data removed]",
            "text/plain": [
              "<Figure size 432x288 with 1 Axes>"
            ]
          },
          "metadata": {},
          "output_type": "display_data"
        },
        {
          "data": {
            "image/png": "[encoded data removed]",
            "text/plain": [
              "<Figure size 432x288 with 1 Axes>"
            ]
          },
          "metadata": {},
          "output_type": "display_data"
        },
        {
          "data": {
            "image/png": "[encoded data removed]",
            "text/plain": [
              "<Figure size 432x288 with 1 Axes>"
            ]
          },
          "metadata": {},
          "output_type": "display_data"
        },
        {
          "data": {
            "image/png": "[encoded data removed]",
            "text/plain": [
              "<Figure size 432x288 with 1 Axes>"
            ]
          },
          "metadata": {},
          "output_type": "display_data"
        },
        {
          "data": {
            "image/png": "[encoded data removed]",
            "text/plain": [
              "<Figure size 432x288 with 1 Axes>"
            ]
          },
          "metadata": {},
          "output_type": "display_data"
        },
        {
          "data": {
            "image/png": "[encoded data removed]",
            "text/plain": [
              "<Figure size 432x288 with 1 Axes>"
            ]
          },
          "metadata": {},
          "output_type": "display_data"
        },
        {
          "data": {
            "image/png": "[encoded data removed]",
            "text/plain": [
              "<Figure size 432x288 with 1 Axes>"
            ]
          },
          "metadata": {},
          "output_type": "display_data"
        }
      ],
      "source": [
        "class_names = list(class_map.keys())\n",
        "visualize_model(model, class_names, 8)"
      ]
    },
    {
      "cell_type": "code",
      "execution_count": null,
      "metadata": {
        "id": "ZHwCZOMiZNgl"
      },
      "outputs": [],
      "source": []
    }
  ],
  "metadata": {
    "accelerator": "GPU",
    "colab": {
      "collapsed_sections": [],
      "name": "unsafe_parking_detection_cnn.ipynb",
      "provenance": []
    },
    "kernelspec": {
      "display_name": "Python 3",
      "name": "python3"
    },
    "language_info": {
      "name": "python"
    },
    "widgets": {
      "application/vnd.jupyter.widget-state+json": {
        "1688eefcd4e741ce86ff6a8fc6b0235b": {
          "model_module": "@jupyter-widgets/controls",
          "model_module_version": "1.5.0",
          "model_name": "HBoxModel",
          "state": {
            "_dom_classes": [],
            "_model_module": "@jupyter-widgets/controls",
            "_model_module_version": "1.5.0",
            "_model_name": "HBoxModel",
            "_view_count": null,
            "_view_module": "@jupyter-widgets/controls",
            "_view_module_version": "1.5.0",
            "_view_name": "HBoxView",
            "box_style": "",
            "children": [
              "IPY_MODEL_22ebc6fbc9d44c7cbcd2df5a893b5a40",
              "IPY_MODEL_acbf42963d0147f290e2aa922ab57f35",
              "IPY_MODEL_eb2e57ebc8b84dbaa352ee7df8f0de85"
            ],
            "layout": "IPY_MODEL_8427c25c573b4a69aaa6e107dc6788ef"
          }
        },
        "22ebc6fbc9d44c7cbcd2df5a893b5a40": {
          "model_module": "@jupyter-widgets/controls",
          "model_module_version": "1.5.0",
          "model_name": "HTMLModel",
          "state": {
            "_dom_classes": [],
            "_model_module": "@jupyter-widgets/controls",
            "_model_module_version": "1.5.0",
            "_model_name": "HTMLModel",
            "_view_count": null,
            "_view_module": "@jupyter-widgets/controls",
            "_view_module_version": "1.5.0",
            "_view_name": "HTMLView",
            "description": "",
            "description_tooltip": null,
            "layout": "IPY_MODEL_6fb10a73d484481897b6f2bdfffe4edc",
            "placeholder": "​",
            "style": "IPY_MODEL_f61017f52be040d497ef8a92c71102b7",
            "value": "100%"
          }
        },
        "58cdc716a8aa4625ac6ad8e37f555354": {
          "model_module": "@jupyter-widgets/base",
          "model_module_version": "1.2.0",
          "model_name": "LayoutModel",
          "state": {
            "_model_module": "@jupyter-widgets/base",
            "_model_module_version": "1.2.0",
            "_model_name": "LayoutModel",
            "_view_count": null,
            "_view_module": "@jupyter-widgets/base",
            "_view_module_version": "1.2.0",
            "_view_name": "LayoutView",
            "align_content": null,
            "align_items": null,
            "align_self": null,
            "border": null,
            "bottom": null,
            "display": null,
            "flex": null,
            "flex_flow": null,
            "grid_area": null,
            "grid_auto_columns": null,
            "grid_auto_flow": null,
            "grid_auto_rows": null,
            "grid_column": null,
            "grid_gap": null,
            "grid_row": null,
            "grid_template_areas": null,
            "grid_template_columns": null,
            "grid_template_rows": null,
            "height": null,
            "justify_content": null,
            "justify_items": null,
            "left": null,
            "margin": null,
            "max_height": null,
            "max_width": null,
            "min_height": null,
            "min_width": null,
            "object_fit": null,
            "object_position": null,
            "order": null,
            "overflow": null,
            "overflow_x": null,
            "overflow_y": null,
            "padding": null,
            "right": null,
            "top": null,
            "visibility": null,
            "width": null
          }
        },
        "6fb10a73d484481897b6f2bdfffe4edc": {
          "model_module": "@jupyter-widgets/base",
          "model_module_version": "1.2.0",
          "model_name": "LayoutModel",
          "state": {
            "_model_module": "@jupyter-widgets/base",
            "_model_module_version": "1.2.0",
            "_model_name": "LayoutModel",
            "_view_count": null,
            "_view_module": "@jupyter-widgets/base",
            "_view_module_version": "1.2.0",
            "_view_name": "LayoutView",
            "align_content": null,
            "align_items": null,
            "align_self": null,
            "border": null,
            "bottom": null,
            "display": null,
            "flex": null,
            "flex_flow": null,
            "grid_area": null,
            "grid_auto_columns": null,
            "grid_auto_flow": null,
            "grid_auto_rows": null,
            "grid_column": null,
            "grid_gap": null,
            "grid_row": null,
            "grid_template_areas": null,
            "grid_template_columns": null,
            "grid_template_rows": null,
            "height": null,
            "justify_content": null,
            "justify_items": null,
            "left": null,
            "margin": null,
            "max_height": null,
            "max_width": null,
            "min_height": null,
            "min_width": null,
            "object_fit": null,
            "object_position": null,
            "order": null,
            "overflow": null,
            "overflow_x": null,
            "overflow_y": null,
            "padding": null,
            "right": null,
            "top": null,
            "visibility": null,
            "width": null
          }
        },
        "8427c25c573b4a69aaa6e107dc6788ef": {
          "model_module": "@jupyter-widgets/base",
          "model_module_version": "1.2.0",
          "model_name": "LayoutModel",
          "state": {
            "_model_module": "@jupyter-widgets/base",
            "_model_module_version": "1.2.0",
            "_model_name": "LayoutModel",
            "_view_count": null,
            "_view_module": "@jupyter-widgets/base",
            "_view_module_version": "1.2.0",
            "_view_name": "LayoutView",
            "align_content": null,
            "align_items": null,
            "align_self": null,
            "border": null,
            "bottom": null,
            "display": null,
            "flex": null,
            "flex_flow": null,
            "grid_area": null,
            "grid_auto_columns": null,
            "grid_auto_flow": null,
            "grid_auto_rows": null,
            "grid_column": null,
            "grid_gap": null,
            "grid_row": null,
            "grid_template_areas": null,
            "grid_template_columns": null,
            "grid_template_rows": null,
            "height": null,
            "justify_content": null,
            "justify_items": null,
            "left": null,
            "margin": null,
            "max_height": null,
            "max_width": null,
            "min_height": null,
            "min_width": null,
            "object_fit": null,
            "object_position": null,
            "order": null,
            "overflow": null,
            "overflow_x": null,
            "overflow_y": null,
            "padding": null,
            "right": null,
            "top": null,
            "visibility": null,
            "width": null
          }
        },
        "90840aebdaf1464390afc5a95bfc3020": {
          "model_module": "@jupyter-widgets/controls",
          "model_module_version": "1.5.0",
          "model_name": "ProgressStyleModel",
          "state": {
            "_model_module": "@jupyter-widgets/controls",
            "_model_module_version": "1.5.0",
            "_model_name": "ProgressStyleModel",
            "_view_count": null,
            "_view_module": "@jupyter-widgets/base",
            "_view_module_version": "1.2.0",
            "_view_name": "StyleView",
            "bar_color": null,
            "description_width": ""
          }
        },
        "acbf42963d0147f290e2aa922ab57f35": {
          "model_module": "@jupyter-widgets/controls",
          "model_module_version": "1.5.0",
          "model_name": "FloatProgressModel",
          "state": {
            "_dom_classes": [],
            "_model_module": "@jupyter-widgets/controls",
            "_model_module_version": "1.5.0",
            "_model_name": "FloatProgressModel",
            "_view_count": null,
            "_view_module": "@jupyter-widgets/controls",
            "_view_module_version": "1.5.0",
            "_view_name": "ProgressView",
            "bar_style": "success",
            "description": "",
            "description_tooltip": null,
            "layout": "IPY_MODEL_58cdc716a8aa4625ac6ad8e37f555354",
            "max": 14212972,
            "min": 0,
            "orientation": "horizontal",
            "style": "IPY_MODEL_90840aebdaf1464390afc5a95bfc3020",
            "value": 14212972
          }
        },
        "c29d973f5bfb40128e39e21b1682a6ce": {
          "model_module": "@jupyter-widgets/controls",
          "model_module_version": "1.5.0",
          "model_name": "DescriptionStyleModel",
          "state": {
            "_model_module": "@jupyter-widgets/controls",
            "_model_module_version": "1.5.0",
            "_model_name": "DescriptionStyleModel",
            "_view_count": null,
            "_view_module": "@jupyter-widgets/base",
            "_view_module_version": "1.2.0",
            "_view_name": "StyleView",
            "description_width": ""
          }
        },
        "eb2e57ebc8b84dbaa352ee7df8f0de85": {
          "model_module": "@jupyter-widgets/controls",
          "model_module_version": "1.5.0",
          "model_name": "HTMLModel",
          "state": {
            "_dom_classes": [],
            "_model_module": "@jupyter-widgets/controls",
            "_model_module_version": "1.5.0",
            "_model_name": "HTMLModel",
            "_view_count": null,
            "_view_module": "@jupyter-widgets/controls",
            "_view_module_version": "1.5.0",
            "_view_name": "HTMLView",
            "description": "",
            "description_tooltip": null,
            "layout": "IPY_MODEL_ef2548cdf3a5445fb513df2a105b139f",
            "placeholder": "​",
            "style": "IPY_MODEL_c29d973f5bfb40128e39e21b1682a6ce",
            "value": " 13.6M/13.6M [00:00&lt;00:00, 132MB/s]"
          }
        },
        "ef2548cdf3a5445fb513df2a105b139f": {
          "model_module": "@jupyter-widgets/base",
          "model_module_version": "1.2.0",
          "model_name": "LayoutModel",
          "state": {
            "_model_module": "@jupyter-widgets/base",
            "_model_module_version": "1.2.0",
            "_model_name": "LayoutModel",
            "_view_count": null,
            "_view_module": "@jupyter-widgets/base",
            "_view_module_version": "1.2.0",
            "_view_name": "LayoutView",
            "align_content": null,
            "align_items": null,
            "align_self": null,
            "border": null,
            "bottom": null,
            "display": null,
            "flex": null,
            "flex_flow": null,
            "grid_area": null,
            "grid_auto_columns": null,
            "grid_auto_flow": null,
            "grid_auto_rows": null,
            "grid_column": null,
            "grid_gap": null,
            "grid_row": null,
            "grid_template_areas": null,
            "grid_template_columns": null,
            "grid_template_rows": null,
            "height": null,
            "justify_content": null,
            "justify_items": null,
            "left": null,
            "margin": null,
            "max_height": null,
            "max_width": null,
            "min_height": null,
            "min_width": null,
            "object_fit": null,
            "object_position": null,
            "order": null,
            "overflow": null,
            "overflow_x": null,
            "overflow_y": null,
            "padding": null,
            "right": null,
            "top": null,
            "visibility": null,
            "width": null
          }
        },
        "f61017f52be040d497ef8a92c71102b7": {
          "model_module": "@jupyter-widgets/controls",
          "model_module_version": "1.5.0",
          "model_name": "DescriptionStyleModel",
          "state": {
            "_model_module": "@jupyter-widgets/controls",
            "_model_module_version": "1.5.0",
            "_model_name": "DescriptionStyleModel",
            "_view_count": null,
            "_view_module": "@jupyter-widgets/base",
            "_view_module_version": "1.2.0",
            "_view_name": "StyleView",
            "description_width": ""
          }
        }
      }
    }
  },
  "nbformat": 4,
  "nbformat_minor": 0
}
