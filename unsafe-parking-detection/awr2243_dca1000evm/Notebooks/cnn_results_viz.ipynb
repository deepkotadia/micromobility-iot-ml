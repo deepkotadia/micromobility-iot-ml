{
 "cells": [
  {
   "cell_type": "code",
   "execution_count": 2,
   "metadata": {},
   "outputs": [],
   "source": [
    "import numpy as np\n",
    "import matplotlib.pyplot as plt\n",
    "import pandas as pd"
   ]
  },
  {
   "cell_type": "code",
   "execution_count": 4,
   "metadata": {},
   "outputs": [],
   "source": [
    "results_xlsx = 'RADAR Heatmaps CNN Results.xlsx'"
   ]
  },
  {
   "cell_type": "code",
   "execution_count": 5,
   "metadata": {},
   "outputs": [],
   "source": [
    "overall_results_df = pd.read_excel(results_xlsx, sheet_name='overall')"
   ]
  },
  {
   "cell_type": "code",
   "execution_count": 6,
   "metadata": {},
   "outputs": [
    {
     "data": {
      "text/html": [
       "<div>\n",
       "<style scoped>\n",
       "    .dataframe tbody tr th:only-of-type {\n",
       "        vertical-align: middle;\n",
       "    }\n",
       "\n",
       "    .dataframe tbody tr th {\n",
       "        vertical-align: top;\n",
       "    }\n",
       "\n",
       "    .dataframe thead th {\n",
       "        text-align: right;\n",
       "    }\n",
       "</style>\n",
       "<table border=\"1\" class=\"dataframe\">\n",
       "  <thead>\n",
       "    <tr style=\"text-align: right;\">\n",
       "      <th></th>\n",
       "      <th>Model</th>\n",
       "      <th>Pretrained?</th>\n",
       "      <th>Total Parameters</th>\n",
       "      <th>Model Size (MB)</th>\n",
       "      <th>Average Inference Time (ms)</th>\n",
       "      <th>Average Throughput (images/s)</th>\n",
       "      <th>Validation Accuracy (%)</th>\n",
       "    </tr>\n",
       "  </thead>\n",
       "  <tbody>\n",
       "    <tr>\n",
       "      <th>0</th>\n",
       "      <td>BaseNet</td>\n",
       "      <td>No</td>\n",
       "      <td>460630</td>\n",
       "      <td>1.8</td>\n",
       "      <td>2.07</td>\n",
       "      <td>312.28</td>\n",
       "      <td>58.12</td>\n",
       "    </tr>\n",
       "    <tr>\n",
       "      <th>1</th>\n",
       "      <td>SqueezeNet</td>\n",
       "      <td>Yes</td>\n",
       "      <td>739528</td>\n",
       "      <td>3.0</td>\n",
       "      <td>5.13</td>\n",
       "      <td>125.29</td>\n",
       "      <td>83.87</td>\n",
       "    </tr>\n",
       "    <tr>\n",
       "      <th>2</th>\n",
       "      <td>MobileNetv2</td>\n",
       "      <td>Yes</td>\n",
       "      <td>2234120</td>\n",
       "      <td>9.2</td>\n",
       "      <td>5.36</td>\n",
       "      <td>113.86</td>\n",
       "      <td>95.27</td>\n",
       "    </tr>\n",
       "    <tr>\n",
       "      <th>3</th>\n",
       "      <td>VGG11</td>\n",
       "      <td>Yes</td>\n",
       "      <td>128799112</td>\n",
       "      <td>515.2</td>\n",
       "      <td>19.75</td>\n",
       "      <td>32.65</td>\n",
       "      <td>89.68</td>\n",
       "    </tr>\n",
       "    <tr>\n",
       "      <th>4</th>\n",
       "      <td>ResNet18</td>\n",
       "      <td>Yes</td>\n",
       "      <td>11180616</td>\n",
       "      <td>44.8</td>\n",
       "      <td>8.64</td>\n",
       "      <td>75.03</td>\n",
       "      <td>92.26</td>\n",
       "    </tr>\n",
       "  </tbody>\n",
       "</table>\n",
       "</div>"
      ],
      "text/plain": [
       "         Model Pretrained?  Total Parameters  Model Size (MB)  \\\n",
       "0      BaseNet          No            460630              1.8   \n",
       "1   SqueezeNet         Yes            739528              3.0   \n",
       "2  MobileNetv2         Yes           2234120              9.2   \n",
       "3        VGG11         Yes         128799112            515.2   \n",
       "4     ResNet18         Yes          11180616             44.8   \n",
       "\n",
       "   Average Inference Time (ms)  Average Throughput (images/s)  \\\n",
       "0                         2.07                         312.28   \n",
       "1                         5.13                         125.29   \n",
       "2                         5.36                         113.86   \n",
       "3                        19.75                          32.65   \n",
       "4                         8.64                          75.03   \n",
       "\n",
       "   Validation Accuracy (%)  \n",
       "0                    58.12  \n",
       "1                    83.87  \n",
       "2                    95.27  \n",
       "3                    89.68  \n",
       "4                    92.26  "
      ]
     },
     "execution_count": 6,
     "metadata": {},
     "output_type": "execute_result"
    }
   ],
   "source": [
    "overall_results_df"
   ]
  },
  {
   "cell_type": "code",
   "execution_count": 23,
   "metadata": {},
   "outputs": [
    {
     "data": {
      "image/png": "[encoded data removed]",
      "text/plain": [
       "<Figure size 432x288 with 1 Axes>"
      ]
     },
     "metadata": {
      "needs_background": "light"
     },
     "output_type": "display_data"
    }
   ],
   "source": [
    "fig, ax = plt.subplots()\n",
    "\n",
    "model_size = overall_results_df['Model Size (MB)']\n",
    "acc = overall_results_df['Validation Accuracy (%)']\n",
    "throughput = overall_results_df['Average Throughput (images/s)']\n",
    "colors = np.random.rand(overall_results_df.shape[0])\n",
    "\n",
    "ax.scatter(throughput, acc, s=model_size, c=colors, alpha=0.5)\n",
    "ax.grid(True)\n",
    "ax.set_xlabel('Average Throughput (images/s)')\n",
    "ax.set_ylabel('Accuracy (%)')\n",
    "ax.set_title('Model Performance (area of circle corresponds to model size)')\n",
    "\n",
    "for i, txt in enumerate(overall_results_df['Model']):\n",
    "    ax.annotate(txt, (throughput[i], acc[i]))"
   ]
  },
  {
   "cell_type": "code",
   "execution_count": null,
   "metadata": {},
   "outputs": [],
   "source": []
  },
  {
   "cell_type": "code",
   "execution_count": 35,
   "metadata": {},
   "outputs": [],
   "source": [
    "classwise_results_df = pd.read_excel(results_xlsx, sheet_name='classwise', index_col='Model')"
   ]
  },
  {
   "cell_type": "code",
   "execution_count": 36,
   "metadata": {},
   "outputs": [
    {
     "data": {
      "text/html": [
       "<div>\n",
       "<style scoped>\n",
       "    .dataframe tbody tr th:only-of-type {\n",
       "        vertical-align: middle;\n",
       "    }\n",
       "\n",
       "    .dataframe tbody tr th {\n",
       "        vertical-align: top;\n",
       "    }\n",
       "\n",
       "    .dataframe thead th {\n",
       "        text-align: right;\n",
       "    }\n",
       "</style>\n",
       "<table border=\"1\" class=\"dataframe\">\n",
       "  <thead>\n",
       "    <tr style=\"text-align: right;\">\n",
       "      <th></th>\n",
       "      <th>bicyclerack</th>\n",
       "      <th>bush</th>\n",
       "      <th>firehydrant</th>\n",
       "      <th>human</th>\n",
       "      <th>lamppost</th>\n",
       "      <th>middle_of_sidewalk</th>\n",
       "      <th>tree</th>\n",
       "      <th>wall</th>\n",
       "    </tr>\n",
       "    <tr>\n",
       "      <th>Model</th>\n",
       "      <th></th>\n",
       "      <th></th>\n",
       "      <th></th>\n",
       "      <th></th>\n",
       "      <th></th>\n",
       "      <th></th>\n",
       "      <th></th>\n",
       "      <th></th>\n",
       "    </tr>\n",
       "  </thead>\n",
       "  <tbody>\n",
       "    <tr>\n",
       "      <th>BaseNet</th>\n",
       "      <td>0.602</td>\n",
       "      <td>0.561</td>\n",
       "      <td>0.313</td>\n",
       "      <td>0.301</td>\n",
       "      <td>0.783</td>\n",
       "      <td>0.824</td>\n",
       "      <td>0.222</td>\n",
       "      <td>0.620</td>\n",
       "    </tr>\n",
       "    <tr>\n",
       "      <th>SqueezeNet</th>\n",
       "      <td>0.800</td>\n",
       "      <td>0.866</td>\n",
       "      <td>0.583</td>\n",
       "      <td>0.533</td>\n",
       "      <td>0.960</td>\n",
       "      <td>0.967</td>\n",
       "      <td>0.844</td>\n",
       "      <td>0.876</td>\n",
       "    </tr>\n",
       "    <tr>\n",
       "      <th>MobileNetv2</th>\n",
       "      <td>1.000</td>\n",
       "      <td>1.000</td>\n",
       "      <td>0.933</td>\n",
       "      <td>1.000</td>\n",
       "      <td>0.933</td>\n",
       "      <td>0.955</td>\n",
       "      <td>0.888</td>\n",
       "      <td>0.962</td>\n",
       "    </tr>\n",
       "    <tr>\n",
       "      <th>VGG11</th>\n",
       "      <td>0.900</td>\n",
       "      <td>0.933</td>\n",
       "      <td>0.783</td>\n",
       "      <td>0.800</td>\n",
       "      <td>0.960</td>\n",
       "      <td>0.988</td>\n",
       "      <td>0.844</td>\n",
       "      <td>0.876</td>\n",
       "    </tr>\n",
       "    <tr>\n",
       "      <th>ResNet18</th>\n",
       "      <td>1.000</td>\n",
       "      <td>0.967</td>\n",
       "      <td>0.883</td>\n",
       "      <td>0.900</td>\n",
       "      <td>0.960</td>\n",
       "      <td>0.955</td>\n",
       "      <td>0.844</td>\n",
       "      <td>0.895</td>\n",
       "    </tr>\n",
       "  </tbody>\n",
       "</table>\n",
       "</div>"
      ],
      "text/plain": [
       "             bicyclerack   bush  firehydrant  human  lamppost  \\\n",
       "Model                                                           \n",
       "BaseNet            0.602  0.561        0.313  0.301     0.783   \n",
       "SqueezeNet         0.800  0.866        0.583  0.533     0.960   \n",
       "MobileNetv2        1.000  1.000        0.933  1.000     0.933   \n",
       "VGG11              0.900  0.933        0.783  0.800     0.960   \n",
       "ResNet18           1.000  0.967        0.883  0.900     0.960   \n",
       "\n",
       "             middle_of_sidewalk   tree   wall  \n",
       "Model                                          \n",
       "BaseNet                   0.824  0.222  0.620  \n",
       "SqueezeNet                0.967  0.844  0.876  \n",
       "MobileNetv2               0.955  0.888  0.962  \n",
       "VGG11                     0.988  0.844  0.876  \n",
       "ResNet18                  0.955  0.844  0.895  "
      ]
     },
     "execution_count": 36,
     "metadata": {},
     "output_type": "execute_result"
    }
   ],
   "source": [
    "classwise_results_df"
   ]
  },
  {
   "cell_type": "code",
   "execution_count": 45,
   "metadata": {},
   "outputs": [
    {
     "data": {
      "text/plain": [
       "Text(0, 0.5, 'Accuracy (%)')"
      ]
     },
     "execution_count": 45,
     "metadata": {},
     "output_type": "execute_result"
    },
    {
     "data": {
      "image/png": "[encoded data removed]",
      "text/plain": [
       "<Figure size 864x432 with 1 Axes>"
      ]
     },
     "metadata": {
      "needs_background": "light"
     },
     "output_type": "display_data"
    }
   ],
   "source": [
    "classwise_results_df.T.plot(kind='bar', figsize=(12, 6))\n",
    "plt.title('Class-wise Model Performance')\n",
    "plt.xlabel('Class')\n",
    "plt.ylabel('Accuracy (%)')"
   ]
  },
  {
   "cell_type": "code",
   "execution_count": null,
   "metadata": {},
   "outputs": [],
   "source": []
  }
 ],
 "metadata": {
  "kernelspec": {
   "display_name": "Python 3",
   "language": "python",
   "name": "python3"
  },
  "language_info": {
   "codemirror_mode": {
    "name": "ipython",
    "version": 3
   },
   "file_extension": ".py",
   "mimetype": "text/x-python",
   "name": "python",
   "nbconvert_exporter": "python",
   "pygments_lexer": "ipython3",
   "version": "3.8.5"
  }
 },
 "nbformat": 4,
 "nbformat_minor": 4
}
